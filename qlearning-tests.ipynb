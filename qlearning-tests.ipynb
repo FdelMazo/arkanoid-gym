{
 "cells": [
  {
   "cell_type": "code",
   "execution_count": null,
   "id": "df666e78-adc5-4fdb-9336-ba5cc42b1504",
   "metadata": {
    "tags": []
   },
   "outputs": [],
   "source": [
    "from arkanoid import Arkanoid\n",
    "from nes_py.wrappers import JoypadSpace\n",
    "import matplotlib.pyplot as plt\n",
    "from IPython.display import clear_output\n",
    "ACTIONS = [[\"NOOP\"], [\"left\"], [\"right\"]]\n",
    "env = JoypadSpace(Arkanoid(), ACTIONS)\n",
    "\n",
    "episodes = 100000"
   ]
  },
  {
   "cell_type": "code",
   "execution_count": null,
   "id": "d88b0726-438f-43f2-9ac6-31fadbe8f114",
   "metadata": {
    "tags": []
   },
   "outputs": [],
   "source": [
    "from qlearning import QLearningAgent\n",
    "\n",
    "agent = QLearningAgent(env)"
   ]
  },
  {
   "cell_type": "code",
   "execution_count": null,
   "id": "0283a23f-97bc-4127-b6fd-4c4428c61ebb",
   "metadata": {
    "tags": []
   },
   "outputs": [],
   "source": [
    "plt.rcParams['figure.figsize'] = (15,5)\n",
    "\n",
    "def plot_scores(scores):\n",
    "    plt.scatter(range(len(scores)), scores)\n",
    "    plt.xlabel('Episode Number')\n",
    "    plt.ylabel('Score')\n",
    "    plt.title('Episode Score Progress')\n",
    "    plt.show()\n",
    "\n",
    "scores = []\n",
    "plot_scores(scores)\n",
    "\n",
    "for episode in range(episodes):\n",
    "    screen, info = env.reset()\n",
    "    while True:\n",
    "        action = agent.get_action(screen, info)\n",
    "        next_screen, reward, done, next_info = env.step(action)\n",
    "        agent.update(screen, info, action, reward, done, next_screen, next_info)\n",
    "\n",
    "        screen = next_screen\n",
    "        info = next_info\n",
    "\n",
    "        if done:\n",
    "            scores.append(info['game']['score'])\n",
    "            clear_output(wait=True)\n",
    "            plot_scores(scores)\n",
    "            break"
   ]
  }
 ],
 "metadata": {
  "kernelspec": {
   "display_name": "Python 3 (ipykernel)",
   "language": "python",
   "name": "python3"
  },
  "language_info": {
   "codemirror_mode": {
    "name": "ipython",
    "version": 3
   },
   "file_extension": ".py",
   "mimetype": "text/x-python",
   "name": "python",
   "nbconvert_exporter": "python",
   "pygments_lexer": "ipython3",
   "version": "3.10.6"
  },
  "widgets": {
   "application/vnd.jupyter.widget-state+json": {
    "state": {
     "00cb8084eb0c40ccb4ac8a4882d4c70b": {
      "model_module": "@jupyter-widgets/controls",
      "model_module_version": "2.0.0",
      "model_name": "HTMLModel",
      "state": {
       "layout": "IPY_MODEL_0e6b85a710354ee5842a2ac884cedde6",
       "style": "IPY_MODEL_23fac45a400e4795b380641227fdcd10",
       "value": "Frame: "
      }
     },
     "00f130d43af144f9b2891e46c64bede2": {
      "model_module": "@jupyter-widgets/base",
      "model_module_version": "2.0.0",
      "model_name": "LayoutModel",
      "state": {
       "width": "20px"
      }
     },
     "01031b75ca314c15a8f470ea7d0b5d7f": {
      "model_module": "@jupyter-widgets/controls",
      "model_module_version": "2.0.0",
      "model_name": "ProgressStyleModel",
      "state": {
       "description_width": ""
      }
     },
     "0177472688e04c98a681516cd4ba08fa": {
      "model_module": "@jupyter-widgets/controls",
      "model_module_version": "2.0.0",
      "model_name": "HBoxModel",
      "state": {
       "children": [
        "IPY_MODEL_ba7e7b917f3a4c42948000a94c03b983",
        "IPY_MODEL_39cb49380f5342e3831603e4eaf7be03",
        "IPY_MODEL_38cafcbf794648d092a963fb01e54770"
       ],
       "layout": "IPY_MODEL_ae1cb869856b4b5f8441cf575d9f3c69"
      }
     },
     "017f765057cf4fdfa3482c6a615dec8c": {
      "model_module": "@jupyter-widgets/base",
      "model_module_version": "2.0.0",
      "model_name": "LayoutModel",
      "state": {
       "width": "20px"
      }
     },
     "03b9d0bd12d94fc7991d47cbd9d40554": {
      "model_module": "@jupyter-widgets/base",
      "model_module_version": "2.0.0",
      "model_name": "LayoutModel",
      "state": {}
     },
     "04e23ebb2cc2479886d986cefdee5d32": {
      "model_module": "@jupyter-widgets/controls",
      "model_module_version": "2.0.0",
      "model_name": "FloatProgressModel",
      "state": {
       "bar_style": "danger",
       "layout": "IPY_MODEL_1c3cc82841a94d6e88726481e5d4b8da",
       "max": 1,
       "style": "IPY_MODEL_01031b75ca314c15a8f470ea7d0b5d7f",
       "value": 1
      }
     },
     "054ab706085e4a8eadf1a8606ba921e3": {
      "model_module": "@jupyter-widgets/controls",
      "model_module_version": "2.0.0",
      "model_name": "HBoxModel",
      "state": {
       "children": [
        "IPY_MODEL_9c04547f66544c3ab72cc33c371af875",
        "IPY_MODEL_697ca59c7da64b2ba79b68125c5c0af1",
        "IPY_MODEL_51e36a9b45df42f0969e7773606b8b6e"
       ],
       "layout": "IPY_MODEL_724ef790d3094c4bb31cc21ece937adc"
      }
     },
     "0757cdb7319441158dc656a2faca89be": {
      "model_module": "@jupyter-widgets/controls",
      "model_module_version": "2.0.0",
      "model_name": "FloatProgressModel",
      "state": {
       "bar_style": "danger",
       "layout": "IPY_MODEL_89e9dd4ff1c34d0f80888eeddda7f97c",
       "max": 1,
       "style": "IPY_MODEL_53e5057d6c814adb8674a08751c94f3b",
       "value": 1
      }
     },
     "077edb24346340ef826c9f40d70df289": {
      "model_module": "@jupyter-widgets/base",
      "model_module_version": "2.0.0",
      "model_name": "LayoutModel",
      "state": {}
     },
     "07a6ef65b87f417a9464f33c93f2b290": {
      "model_module": "@jupyter-widgets/base",
      "model_module_version": "2.0.0",
      "model_name": "LayoutModel",
      "state": {}
     },
     "07c05655f7444b76b2833acad83b79e7": {
      "model_module": "@jupyter-widgets/controls",
      "model_module_version": "2.0.0",
      "model_name": "HTMLStyleModel",
      "state": {
       "description_width": "",
       "font_size": null,
       "text_color": null
      }
     },
     "0979708259224184a1365296f53ea0b7": {
      "model_module": "@jupyter-widgets/controls",
      "model_module_version": "2.0.0",
      "model_name": "HBoxModel",
      "state": {
       "children": [
        "IPY_MODEL_5c6a9809ebda4465be38eaeea54ad26f",
        "IPY_MODEL_496f0f2717124b2e908c0a89afc7a15d",
        "IPY_MODEL_ae62e6d8195a4b6199338fb8394390c4"
       ],
       "layout": "IPY_MODEL_1139f2c032164b21a54b0f4490680b7d"
      }
     },
     "09d6f4b1c9aa4d4fadae2b357c0ab8a8": {
      "model_module": "@jupyter-widgets/controls",
      "model_module_version": "2.0.0",
      "model_name": "HBoxModel",
      "state": {
       "children": [
        "IPY_MODEL_bab6d5c8e0d0429f9a6ed375a8e8f31b",
        "IPY_MODEL_3983622c0dd141d9a54fd68d2b22461f",
        "IPY_MODEL_bc23f89dfdfb44b6bd15c706866c3299"
       ],
       "layout": "IPY_MODEL_cd607ea6af30480d8f04e68436ae38a6"
      }
     },
     "0b3373658ca54861923350af9a62212a": {
      "model_module": "@jupyter-widgets/controls",
      "model_module_version": "2.0.0",
      "model_name": "ProgressStyleModel",
      "state": {
       "description_width": ""
      }
     },
     "0ca5015dbf4849ebb9b0728f436a89fb": {
      "model_module": "@jupyter-widgets/base",
      "model_module_version": "2.0.0",
      "model_name": "LayoutModel",
      "state": {}
     },
     "0cc75dde092342ca99f2065b42a24273": {
      "model_module": "@jupyter-widgets/controls",
      "model_module_version": "2.0.0",
      "model_name": "HTMLStyleModel",
      "state": {
       "description_width": "",
       "font_size": null,
       "text_color": null
      }
     },
     "0e6b85a710354ee5842a2ac884cedde6": {
      "model_module": "@jupyter-widgets/base",
      "model_module_version": "2.0.0",
      "model_name": "LayoutModel",
      "state": {}
     },
     "1139f2c032164b21a54b0f4490680b7d": {
      "model_module": "@jupyter-widgets/base",
      "model_module_version": "2.0.0",
      "model_name": "LayoutModel",
      "state": {}
     },
     "12f803b143cb417eb7945737f736d615": {
      "model_module": "@jupyter-widgets/base",
      "model_module_version": "2.0.0",
      "model_name": "LayoutModel",
      "state": {}
     },
     "149b66d893974776a69a186d8b7308b7": {
      "model_module": "@jupyter-widgets/base",
      "model_module_version": "2.0.0",
      "model_name": "LayoutModel",
      "state": {
       "width": "20px"
      }
     },
     "1501d07fabae47b3adfaa957a3c9ff86": {
      "model_module": "@jupyter-widgets/controls",
      "model_module_version": "2.0.0",
      "model_name": "FloatProgressModel",
      "state": {
       "bar_style": "danger",
       "layout": "IPY_MODEL_6e3369d364fd4dbea707b7b6cf1ac686",
       "max": 1,
       "style": "IPY_MODEL_8cc935fcd1674794be7673cfb80c8648",
       "value": 1
      }
     },
     "152f8c5cab5645548a4ed88cb24fcfd7": {
      "model_module": "@jupyter-widgets/base",
      "model_module_version": "2.0.0",
      "model_name": "LayoutModel",
      "state": {}
     },
     "1616cd68d814498bb716a84dc7be7bd3": {
      "model_module": "@jupyter-widgets/controls",
      "model_module_version": "2.0.0",
      "model_name": "HTMLStyleModel",
      "state": {
       "description_width": "",
       "font_size": null,
       "text_color": null
      }
     },
     "163567ad812c42eb8bf5eddf938b0614": {
      "model_module": "@jupyter-widgets/base",
      "model_module_version": "2.0.0",
      "model_name": "LayoutModel",
      "state": {}
     },
     "170a3ab92c3e4777a6e71d2db62621e2": {
      "model_module": "@jupyter-widgets/base",
      "model_module_version": "2.0.0",
      "model_name": "LayoutModel",
      "state": {}
     },
     "17915e632c334eec8a80afb3db4057ac": {
      "model_module": "@jupyter-widgets/base",
      "model_module_version": "2.0.0",
      "model_name": "LayoutModel",
      "state": {
       "width": "20px"
      }
     },
     "17fae03c2c2b4fe2ac263e6208871fa7": {
      "model_module": "@jupyter-widgets/base",
      "model_module_version": "2.0.0",
      "model_name": "LayoutModel",
      "state": {
       "width": "20px"
      }
     },
     "188ec82d647c43a9b838e77c021579a9": {
      "model_module": "@jupyter-widgets/controls",
      "model_module_version": "2.0.0",
      "model_name": "HTMLModel",
      "state": {
       "layout": "IPY_MODEL_ce48b1dc1f38499fb06c680d89cde78c",
       "style": "IPY_MODEL_20452a35d8a04bd7b6eaed429276fd90",
       "value": "Frame: "
      }
     },
     "1ab692894fdc4654859760a823d10c3f": {
      "model_module": "@jupyter-widgets/base",
      "model_module_version": "2.0.0",
      "model_name": "LayoutModel",
      "state": {}
     },
     "1b02a1e8bc7142079c04f4ac57cd17a1": {
      "model_module": "@jupyter-widgets/controls",
      "model_module_version": "2.0.0",
      "model_name": "HTMLModel",
      "state": {
       "layout": "IPY_MODEL_65b096868df642fdb2e386d9fcb41122",
       "style": "IPY_MODEL_29e517c907574091978ec7105565361e",
       "value": " 1170/? [00:29&lt;00:00, 50.52it/s]"
      }
     },
     "1bdc91c04d8a44d29f2b6f1769864149": {
      "model_module": "@jupyter-widgets/controls",
      "model_module_version": "2.0.0",
      "model_name": "HTMLStyleModel",
      "state": {
       "description_width": "",
       "font_size": null,
       "text_color": null
      }
     },
     "1c3cc82841a94d6e88726481e5d4b8da": {
      "model_module": "@jupyter-widgets/base",
      "model_module_version": "2.0.0",
      "model_name": "LayoutModel",
      "state": {
       "width": "20px"
      }
     },
     "1d5b34017b1b41f39787a77e25b3e07a": {
      "model_module": "@jupyter-widgets/controls",
      "model_module_version": "2.0.0",
      "model_name": "ProgressStyleModel",
      "state": {
       "description_width": ""
      }
     },
     "1dbc46f59ce24488afbc1337f9b151e8": {
      "model_module": "@jupyter-widgets/controls",
      "model_module_version": "2.0.0",
      "model_name": "HTMLStyleModel",
      "state": {
       "description_width": "",
       "font_size": null,
       "text_color": null
      }
     },
     "1e1c17a28b71469ca8033f25d39bef17": {
      "model_module": "@jupyter-widgets/base",
      "model_module_version": "2.0.0",
      "model_name": "LayoutModel",
      "state": {
       "width": "20px"
      }
     },
     "1effd2a1db8c4cfeb7ff7a945bd619c6": {
      "model_module": "@jupyter-widgets/base",
      "model_module_version": "2.0.0",
      "model_name": "LayoutModel",
      "state": {}
     },
     "1f818a4574ce4e57b708fb6abe4f8809": {
      "model_module": "@jupyter-widgets/controls",
      "model_module_version": "2.0.0",
      "model_name": "HTMLModel",
      "state": {
       "layout": "IPY_MODEL_edea611ed2c644fc90f27a99891e33e1",
       "style": "IPY_MODEL_d49fa6d0b84b4611b5ce4c59d5d5dd42",
       "value": "Frame: "
      }
     },
     "20452a35d8a04bd7b6eaed429276fd90": {
      "model_module": "@jupyter-widgets/controls",
      "model_module_version": "2.0.0",
      "model_name": "HTMLStyleModel",
      "state": {
       "description_width": "",
       "font_size": null,
       "text_color": null
      }
     },
     "2366587aa2914cdb9d38614081dadd2c": {
      "model_module": "@jupyter-widgets/controls",
      "model_module_version": "2.0.0",
      "model_name": "ProgressStyleModel",
      "state": {
       "description_width": ""
      }
     },
     "23fac45a400e4795b380641227fdcd10": {
      "model_module": "@jupyter-widgets/controls",
      "model_module_version": "2.0.0",
      "model_name": "HTMLStyleModel",
      "state": {
       "description_width": "",
       "font_size": null,
       "text_color": null
      }
     },
     "24bdc458cf994975aecb4782d3157ceb": {
      "model_module": "@jupyter-widgets/base",
      "model_module_version": "2.0.0",
      "model_name": "LayoutModel",
      "state": {}
     },
     "255f20df79cc41cd85c507488288e0d1": {
      "model_module": "@jupyter-widgets/base",
      "model_module_version": "2.0.0",
      "model_name": "LayoutModel",
      "state": {
       "width": "20px"
      }
     },
     "258037e20fe7427395763b71fd85c804": {
      "model_module": "@jupyter-widgets/controls",
      "model_module_version": "2.0.0",
      "model_name": "HBoxModel",
      "state": {
       "children": [
        "IPY_MODEL_99cd01b7e70f4be99da2219e286c4d4d",
        "IPY_MODEL_ada6efa2b506422baa7c7daf7dbc8cd8",
        "IPY_MODEL_5a3416c9179349a9b270e4394eb5acf8"
       ],
       "layout": "IPY_MODEL_36fd5058294f49caa20da347757276f1"
      }
     },
     "2657a84de71041b798a04cedf7313bc4": {
      "model_module": "@jupyter-widgets/controls",
      "model_module_version": "2.0.0",
      "model_name": "HTMLStyleModel",
      "state": {
       "description_width": "",
       "font_size": null,
       "text_color": null
      }
     },
     "27cd7d2a28f04586bcd95fbc21836659": {
      "model_module": "@jupyter-widgets/controls",
      "model_module_version": "2.0.0",
      "model_name": "HTMLStyleModel",
      "state": {
       "description_width": "",
       "font_size": null,
       "text_color": null
      }
     },
     "2985121e08c24a23829c2bf64b9e0fc6": {
      "model_module": "@jupyter-widgets/controls",
      "model_module_version": "2.0.0",
      "model_name": "HTMLModel",
      "state": {
       "layout": "IPY_MODEL_e4d5319da8114fb09c76dce09fdc3329",
       "style": "IPY_MODEL_47d9aa401f8a41e88f6a6186b6ca2075",
       "value": " 966/? [00:26&lt;00:00, 35.95it/s]"
      }
     },
     "299702afb50c41a0a7dc4ad10266544c": {
      "model_module": "@jupyter-widgets/controls",
      "model_module_version": "2.0.0",
      "model_name": "HTMLModel",
      "state": {
       "layout": "IPY_MODEL_84cd70590db94df4a75f20b9e49357f6",
       "style": "IPY_MODEL_7260ac876360494eab8e386b294c9886",
       "value": " 1069/? [00:29&lt;00:00, 39.28it/s]"
      }
     },
     "29e517c907574091978ec7105565361e": {
      "model_module": "@jupyter-widgets/controls",
      "model_module_version": "2.0.0",
      "model_name": "HTMLStyleModel",
      "state": {
       "description_width": "",
       "font_size": null,
       "text_color": null
      }
     },
     "29e81ccc1b884b7db072f08bda7fbfcc": {
      "model_module": "@jupyter-widgets/controls",
      "model_module_version": "2.0.0",
      "model_name": "HTMLStyleModel",
      "state": {
       "description_width": "",
       "font_size": null,
       "text_color": null
      }
     },
     "2a611b0b40df433fa7efd8b77eaffba6": {
      "model_module": "@jupyter-widgets/controls",
      "model_module_version": "2.0.0",
      "model_name": "HTMLStyleModel",
      "state": {
       "description_width": "",
       "font_size": null,
       "text_color": null
      }
     },
     "2a7d5f4eaf96474b8066fbd997aaa7fd": {
      "model_module": "@jupyter-widgets/base",
      "model_module_version": "2.0.0",
      "model_name": "LayoutModel",
      "state": {}
     },
     "2ac63b8bbd824823ad8e5935b36ca474": {
      "model_module": "@jupyter-widgets/controls",
      "model_module_version": "2.0.0",
      "model_name": "HTMLModel",
      "state": {
       "layout": "IPY_MODEL_98827740e1ac43238cd4760b374a2dac",
       "style": "IPY_MODEL_0cc75dde092342ca99f2065b42a24273",
       "value": "Frame: "
      }
     },
     "2bf01dc7bab94183974713b482ef3c53": {
      "model_module": "@jupyter-widgets/controls",
      "model_module_version": "2.0.0",
      "model_name": "HTMLStyleModel",
      "state": {
       "description_width": "",
       "font_size": null,
       "text_color": null
      }
     },
     "2c956cd51b7342129fcf1510c3f51f3a": {
      "model_module": "@jupyter-widgets/controls",
      "model_module_version": "2.0.0",
      "model_name": "HBoxModel",
      "state": {
       "children": [
        "IPY_MODEL_7b02ef5d18094659843b36096ad2564b",
        "IPY_MODEL_04e23ebb2cc2479886d986cefdee5d32",
        "IPY_MODEL_f2641816ed2447c0b5508362858cda80"
       ],
       "layout": "IPY_MODEL_c7267e8c9498468f98b7e092562e1fba"
      }
     },
     "2efdf500005f439bb04bf5c8e87bf656": {
      "model_module": "@jupyter-widgets/base",
      "model_module_version": "2.0.0",
      "model_name": "LayoutModel",
      "state": {}
     },
     "306ae07d130540c68c29d10850670772": {
      "model_module": "@jupyter-widgets/controls",
      "model_module_version": "2.0.0",
      "model_name": "HBoxModel",
      "state": {
       "children": [
        "IPY_MODEL_384e7e9c4c5c4c69a991dab1705895a8",
        "IPY_MODEL_f704d8f26cb34d019263212f228c5680",
        "IPY_MODEL_b3d53ab7fb2a42b887f6f4442e5fc111"
       ],
       "layout": "IPY_MODEL_cc5635d5e49241e0adab7b087032c181"
      }
     },
     "33ffa707bd0542539ca1d52545739348": {
      "model_module": "@jupyter-widgets/controls",
      "model_module_version": "2.0.0",
      "model_name": "FloatProgressModel",
      "state": {
       "bar_style": "danger",
       "layout": "IPY_MODEL_495adb21210648c6824cc2b103bf6364",
       "max": 1,
       "style": "IPY_MODEL_808c6f3e64944186a8a9b7ec4d40b626",
       "value": 1
      }
     },
     "342c574bb6f84bca848ad6566ec8179e": {
      "model_module": "@jupyter-widgets/controls",
      "model_module_version": "2.0.0",
      "model_name": "HTMLStyleModel",
      "state": {
       "description_width": "",
       "font_size": null,
       "text_color": null
      }
     },
     "359edb93624046279936122bca3ff71d": {
      "model_module": "@jupyter-widgets/base",
      "model_module_version": "2.0.0",
      "model_name": "LayoutModel",
      "state": {}
     },
     "36fd5058294f49caa20da347757276f1": {
      "model_module": "@jupyter-widgets/base",
      "model_module_version": "2.0.0",
      "model_name": "LayoutModel",
      "state": {}
     },
     "37698a2128b143dbaa42924aba111584": {
      "model_module": "@jupyter-widgets/controls",
      "model_module_version": "2.0.0",
      "model_name": "HBoxModel",
      "state": {
       "children": [
        "IPY_MODEL_00cb8084eb0c40ccb4ac8a4882d4c70b",
        "IPY_MODEL_5a619d851b2647048f116e5093a49232",
        "IPY_MODEL_df21e10d5b9a4685b98151011d817c48"
       ],
       "layout": "IPY_MODEL_9ced8e8828e24d9ba0c05e3bdb15bc6e"
      }
     },
     "384e7e9c4c5c4c69a991dab1705895a8": {
      "model_module": "@jupyter-widgets/controls",
      "model_module_version": "2.0.0",
      "model_name": "HTMLModel",
      "state": {
       "layout": "IPY_MODEL_53fcb0eda05a40f7bd18ed0ff6d7dbdf",
       "style": "IPY_MODEL_de7bc4a7c8944ae6a6026ee477bad182",
       "value": "Frame: "
      }
     },
     "38cafcbf794648d092a963fb01e54770": {
      "model_module": "@jupyter-widgets/controls",
      "model_module_version": "2.0.0",
      "model_name": "HTMLModel",
      "state": {
       "layout": "IPY_MODEL_cfe28a268a214271bd20a12d684bda56",
       "style": "IPY_MODEL_d3cec91da33f4e5ab4df6e7ea0146346",
       "value": " 1316/? [00:51&lt;00:00, 46.06it/s]"
      }
     },
     "38fccac536314ca99463fe272f0021ad": {
      "model_module": "@jupyter-widgets/base",
      "model_module_version": "2.0.0",
      "model_name": "LayoutModel",
      "state": {}
     },
     "3983622c0dd141d9a54fd68d2b22461f": {
      "model_module": "@jupyter-widgets/controls",
      "model_module_version": "2.0.0",
      "model_name": "FloatProgressModel",
      "state": {
       "bar_style": "danger",
       "layout": "IPY_MODEL_149b66d893974776a69a186d8b7308b7",
       "max": 1,
       "style": "IPY_MODEL_70ee6d4bdb7d425f944de10adc084b17",
       "value": 1
      }
     },
     "39cb49380f5342e3831603e4eaf7be03": {
      "model_module": "@jupyter-widgets/controls",
      "model_module_version": "2.0.0",
      "model_name": "FloatProgressModel",
      "state": {
       "bar_style": "danger",
       "layout": "IPY_MODEL_1e1c17a28b71469ca8033f25d39bef17",
       "max": 1,
       "style": "IPY_MODEL_8a81440f0cf3459aaa3dae95046b53cd",
       "value": 1
      }
     },
     "39d3146d6b6043fd88212b999203b6ff": {
      "model_module": "@jupyter-widgets/controls",
      "model_module_version": "2.0.0",
      "model_name": "HTMLModel",
      "state": {
       "layout": "IPY_MODEL_2efdf500005f439bb04bf5c8e87bf656",
       "style": "IPY_MODEL_b2429522e58848b7a988a0e8d95c387a",
       "value": " 1058/? [00:25&lt;00:00, 49.17it/s]"
      }
     },
     "39eed3ae050d4c3a99270b312533da04": {
      "model_module": "@jupyter-widgets/controls",
      "model_module_version": "2.0.0",
      "model_name": "HTMLStyleModel",
      "state": {
       "description_width": "",
       "font_size": null,
       "text_color": null
      }
     },
     "3a0cfbc776214e3f89c8e6b7eca3ad05": {
      "model_module": "@jupyter-widgets/controls",
      "model_module_version": "2.0.0",
      "model_name": "HBoxModel",
      "state": {
       "children": [
        "IPY_MODEL_e80730f5f4ea4e4cad9b311024d255c1",
        "IPY_MODEL_f3d77a11de014410a5b787e7a898a6bf",
        "IPY_MODEL_ab4a3c49effd436f996429394190c312"
       ],
       "layout": "IPY_MODEL_462e5506f58f4833ba59affba11022b8"
      }
     },
     "3c7db4553d1c4a3ebad6ec5cc143f4e8": {
      "model_module": "@jupyter-widgets/controls",
      "model_module_version": "2.0.0",
      "model_name": "HTMLModel",
      "state": {
       "layout": "IPY_MODEL_1effd2a1db8c4cfeb7ff7a945bd619c6",
       "style": "IPY_MODEL_2bf01dc7bab94183974713b482ef3c53",
       "value": "Frame: "
      }
     },
     "3e45d329b1bb46a28852786c624c1d98": {
      "model_module": "@jupyter-widgets/controls",
      "model_module_version": "2.0.0",
      "model_name": "HTMLModel",
      "state": {
       "layout": "IPY_MODEL_c8d7243512264a4d9b6ffe8e52fbfea7",
       "style": "IPY_MODEL_1616cd68d814498bb716a84dc7be7bd3",
       "value": " 1007/? [00:25&lt;00:00, 48.26it/s]"
      }
     },
     "41353e62eb2d4e02aefa1cbbd4b7dcd1": {
      "model_module": "@jupyter-widgets/controls",
      "model_module_version": "2.0.0",
      "model_name": "HBoxModel",
      "state": {
       "children": [
        "IPY_MODEL_7a3e852c5d77466db62550916bbe9b1b",
        "IPY_MODEL_92151a183c94467a9065d1d9d99063b6",
        "IPY_MODEL_39d3146d6b6043fd88212b999203b6ff"
       ],
       "layout": "IPY_MODEL_c882107b526d4a58bb71a61beef054e6"
      }
     },
     "4162608964104a6eb1a88314a011fae7": {
      "model_module": "@jupyter-widgets/controls",
      "model_module_version": "2.0.0",
      "model_name": "ProgressStyleModel",
      "state": {
       "description_width": ""
      }
     },
     "426123afbc8346319cef00f95462a9b5": {
      "model_module": "@jupyter-widgets/controls",
      "model_module_version": "2.0.0",
      "model_name": "ProgressStyleModel",
      "state": {
       "description_width": ""
      }
     },
     "45f079b1edf14f50907bd93f4ec96c36": {
      "model_module": "@jupyter-widgets/controls",
      "model_module_version": "2.0.0",
      "model_name": "FloatProgressModel",
      "state": {
       "bar_style": "danger",
       "layout": "IPY_MODEL_f4731807862c4460ac738c205ea04a2d",
       "max": 1,
       "style": "IPY_MODEL_ff8d84e9726e45c88af6d2e920604741",
       "value": 1
      }
     },
     "462e5506f58f4833ba59affba11022b8": {
      "model_module": "@jupyter-widgets/base",
      "model_module_version": "2.0.0",
      "model_name": "LayoutModel",
      "state": {}
     },
     "47d9aa401f8a41e88f6a6186b6ca2075": {
      "model_module": "@jupyter-widgets/controls",
      "model_module_version": "2.0.0",
      "model_name": "HTMLStyleModel",
      "state": {
       "description_width": "",
       "font_size": null,
       "text_color": null
      }
     },
     "495adb21210648c6824cc2b103bf6364": {
      "model_module": "@jupyter-widgets/base",
      "model_module_version": "2.0.0",
      "model_name": "LayoutModel",
      "state": {
       "width": "20px"
      }
     },
     "496f0f2717124b2e908c0a89afc7a15d": {
      "model_module": "@jupyter-widgets/controls",
      "model_module_version": "2.0.0",
      "model_name": "FloatProgressModel",
      "state": {
       "bar_style": "danger",
       "layout": "IPY_MODEL_00f130d43af144f9b2891e46c64bede2",
       "max": 1,
       "style": "IPY_MODEL_4a312e85fb3b440696fca3b2530a3be8",
       "value": 1
      }
     },
     "4a312e85fb3b440696fca3b2530a3be8": {
      "model_module": "@jupyter-widgets/controls",
      "model_module_version": "2.0.0",
      "model_name": "ProgressStyleModel",
      "state": {
       "description_width": ""
      }
     },
     "4c197803cad94d879b2cdf2fd0a6afaf": {
      "model_module": "@jupyter-widgets/controls",
      "model_module_version": "2.0.0",
      "model_name": "FloatProgressModel",
      "state": {
       "bar_style": "info",
       "layout": "IPY_MODEL_900fd39ac0684ec583bc988e7a8577ff",
       "max": 1,
       "style": "IPY_MODEL_4162608964104a6eb1a88314a011fae7",
       "value": 1
      }
     },
     "4feb03796a6c4edc86db4655eca12858": {
      "model_module": "@jupyter-widgets/controls",
      "model_module_version": "2.0.0",
      "model_name": "ProgressStyleModel",
      "state": {
       "description_width": ""
      }
     },
     "516d3c62ee30484bb1ae6141035a941b": {
      "model_module": "@jupyter-widgets/controls",
      "model_module_version": "2.0.0",
      "model_name": "ProgressStyleModel",
      "state": {
       "description_width": ""
      }
     },
     "51e36a9b45df42f0969e7773606b8b6e": {
      "model_module": "@jupyter-widgets/controls",
      "model_module_version": "2.0.0",
      "model_name": "HTMLModel",
      "state": {
       "layout": "IPY_MODEL_ccbe948384384ccfb43a80d57ffa6b79",
       "style": "IPY_MODEL_1bdc91c04d8a44d29f2b6f1769864149",
       "value": " 1342/? [00:44&lt;00:00, 40.48it/s]"
      }
     },
     "5341bf6292514bf1bcb6c4ad5c80d4f2": {
      "model_module": "@jupyter-widgets/controls",
      "model_module_version": "2.0.0",
      "model_name": "HBoxModel",
      "state": {
       "children": [
        "IPY_MODEL_ddf0e8909188419e97c05a2684eaddf3",
        "IPY_MODEL_6f8223a131e646c9ac57038e29383022",
        "IPY_MODEL_2985121e08c24a23829c2bf64b9e0fc6"
       ],
       "layout": "IPY_MODEL_a76ebec4430d4a609d88616bbb4877f2"
      }
     },
     "53bc5053f5f54036aaeacaa508ab619f": {
      "model_module": "@jupyter-widgets/base",
      "model_module_version": "2.0.0",
      "model_name": "LayoutModel",
      "state": {
       "width": "20px"
      }
     },
     "53e5057d6c814adb8674a08751c94f3b": {
      "model_module": "@jupyter-widgets/controls",
      "model_module_version": "2.0.0",
      "model_name": "ProgressStyleModel",
      "state": {
       "description_width": ""
      }
     },
     "53fcb0eda05a40f7bd18ed0ff6d7dbdf": {
      "model_module": "@jupyter-widgets/base",
      "model_module_version": "2.0.0",
      "model_name": "LayoutModel",
      "state": {}
     },
     "5503405b0cda4dff9d720eb918f217fb": {
      "model_module": "@jupyter-widgets/base",
      "model_module_version": "2.0.0",
      "model_name": "LayoutModel",
      "state": {}
     },
     "556d5f2210ee43c0953b7832c20ee57b": {
      "model_module": "@jupyter-widgets/controls",
      "model_module_version": "2.0.0",
      "model_name": "HTMLStyleModel",
      "state": {
       "description_width": "",
       "font_size": null,
       "text_color": null
      }
     },
     "560cb12fbb064640aa1dd6f2e62a4fb3": {
      "model_module": "@jupyter-widgets/base",
      "model_module_version": "2.0.0",
      "model_name": "LayoutModel",
      "state": {
       "width": "20px"
      }
     },
     "5774e7a1b74d41888735267b39f29c00": {
      "model_module": "@jupyter-widgets/base",
      "model_module_version": "2.0.0",
      "model_name": "LayoutModel",
      "state": {}
     },
     "5977ad75a1bf429b9c248248d90ba512": {
      "model_module": "@jupyter-widgets/base",
      "model_module_version": "2.0.0",
      "model_name": "LayoutModel",
      "state": {
       "width": "20px"
      }
     },
     "5a3416c9179349a9b270e4394eb5acf8": {
      "model_module": "@jupyter-widgets/controls",
      "model_module_version": "2.0.0",
      "model_name": "HTMLModel",
      "state": {
       "layout": "IPY_MODEL_64671245ec3f4c0487a5aaa599e18894",
       "style": "IPY_MODEL_eecbc0e136be45948f4c33103fc7e3ca",
       "value": " 1029/? [00:24&lt;00:00, 54.70it/s]"
      }
     },
     "5a619d851b2647048f116e5093a49232": {
      "model_module": "@jupyter-widgets/controls",
      "model_module_version": "2.0.0",
      "model_name": "FloatProgressModel",
      "state": {
       "bar_style": "danger",
       "layout": "IPY_MODEL_560cb12fbb064640aa1dd6f2e62a4fb3",
       "max": 1,
       "style": "IPY_MODEL_7e942ce9aa8541979aa2084824c910af",
       "value": 1
      }
     },
     "5c6a9809ebda4465be38eaeea54ad26f": {
      "model_module": "@jupyter-widgets/controls",
      "model_module_version": "2.0.0",
      "model_name": "HTMLModel",
      "state": {
       "layout": "IPY_MODEL_882f0bd22c1949c3ac5b94c2a809ff1e",
       "style": "IPY_MODEL_6ed0603d6094463a8931e565d0eccf1c",
       "value": "Frame: "
      }
     },
     "5d151acce65248c7ad69f592668a66a5": {
      "model_module": "@jupyter-widgets/base",
      "model_module_version": "2.0.0",
      "model_name": "LayoutModel",
      "state": {}
     },
     "5ed87a2ace164b9ca5ef76627026ed7e": {
      "model_module": "@jupyter-widgets/controls",
      "model_module_version": "2.0.0",
      "model_name": "HTMLStyleModel",
      "state": {
       "description_width": "",
       "font_size": null,
       "text_color": null
      }
     },
     "61a2890d20864f4ca0d9d669e732f31b": {
      "model_module": "@jupyter-widgets/base",
      "model_module_version": "2.0.0",
      "model_name": "LayoutModel",
      "state": {}
     },
     "61fc0941ed9a4acdb44c632bdf4223e3": {
      "model_module": "@jupyter-widgets/controls",
      "model_module_version": "2.0.0",
      "model_name": "HTMLStyleModel",
      "state": {
       "description_width": "",
       "font_size": null,
       "text_color": null
      }
     },
     "62103acc24e24fa3a6b9d55c90faf540": {
      "model_module": "@jupyter-widgets/base",
      "model_module_version": "2.0.0",
      "model_name": "LayoutModel",
      "state": {}
     },
     "625efcfd6c334242a47130ebfee4a738": {
      "model_module": "@jupyter-widgets/controls",
      "model_module_version": "2.0.0",
      "model_name": "HTMLModel",
      "state": {
       "layout": "IPY_MODEL_e6e4c285e93448e08d1858ba04f8c8a8",
       "style": "IPY_MODEL_556d5f2210ee43c0953b7832c20ee57b",
       "value": "Frame: "
      }
     },
     "64671245ec3f4c0487a5aaa599e18894": {
      "model_module": "@jupyter-widgets/base",
      "model_module_version": "2.0.0",
      "model_name": "LayoutModel",
      "state": {}
     },
     "65b096868df642fdb2e386d9fcb41122": {
      "model_module": "@jupyter-widgets/base",
      "model_module_version": "2.0.0",
      "model_name": "LayoutModel",
      "state": {}
     },
     "690e3d18bebf42089974c073091ecefd": {
      "model_module": "@jupyter-widgets/base",
      "model_module_version": "2.0.0",
      "model_name": "LayoutModel",
      "state": {}
     },
     "697ca59c7da64b2ba79b68125c5c0af1": {
      "model_module": "@jupyter-widgets/controls",
      "model_module_version": "2.0.0",
      "model_name": "FloatProgressModel",
      "state": {
       "bar_style": "danger",
       "layout": "IPY_MODEL_a56752f492574caa9dfacc709895ad82",
       "max": 1,
       "style": "IPY_MODEL_0b3373658ca54861923350af9a62212a",
       "value": 1
      }
     },
     "69a69458f7f44a3aa5b9882558d4cb41": {
      "model_module": "@jupyter-widgets/base",
      "model_module_version": "2.0.0",
      "model_name": "LayoutModel",
      "state": {
       "width": "20px"
      }
     },
     "6b74d848da88410a96e2193a391d9f5d": {
      "model_module": "@jupyter-widgets/base",
      "model_module_version": "2.0.0",
      "model_name": "LayoutModel",
      "state": {}
     },
     "6c83033020da4d4f8d87c71185480f64": {
      "model_module": "@jupyter-widgets/base",
      "model_module_version": "2.0.0",
      "model_name": "LayoutModel",
      "state": {}
     },
     "6d2cce389d5e48ccadb8f6a935dc955b": {
      "model_module": "@jupyter-widgets/controls",
      "model_module_version": "2.0.0",
      "model_name": "HTMLStyleModel",
      "state": {
       "description_width": "",
       "font_size": null,
       "text_color": null
      }
     },
     "6da7707360d74ae0a9eda12f0ba0b0dc": {
      "model_module": "@jupyter-widgets/base",
      "model_module_version": "2.0.0",
      "model_name": "LayoutModel",
      "state": {}
     },
     "6e3369d364fd4dbea707b7b6cf1ac686": {
      "model_module": "@jupyter-widgets/base",
      "model_module_version": "2.0.0",
      "model_name": "LayoutModel",
      "state": {
       "width": "20px"
      }
     },
     "6ed0603d6094463a8931e565d0eccf1c": {
      "model_module": "@jupyter-widgets/controls",
      "model_module_version": "2.0.0",
      "model_name": "HTMLStyleModel",
      "state": {
       "description_width": "",
       "font_size": null,
       "text_color": null
      }
     },
     "6f8223a131e646c9ac57038e29383022": {
      "model_module": "@jupyter-widgets/controls",
      "model_module_version": "2.0.0",
      "model_name": "FloatProgressModel",
      "state": {
       "bar_style": "danger",
       "layout": "IPY_MODEL_b519ac679b9e47f092f17ba45b71a010",
       "max": 1,
       "style": "IPY_MODEL_b00a865c0bb34d52b3f545931b4e2691",
       "value": 1
      }
     },
     "6ff67005a0a84b75a32338b230d1781d": {
      "model_module": "@jupyter-widgets/controls",
      "model_module_version": "2.0.0",
      "model_name": "FloatProgressModel",
      "state": {
       "layout": "IPY_MODEL_170a3ab92c3e4777a6e71d2db62621e2",
       "max": 1000,
       "style": "IPY_MODEL_2366587aa2914cdb9d38614081dadd2c",
       "value": 21
      }
     },
     "702c9837c08d49ae93484b93328aa569": {
      "model_module": "@jupyter-widgets/base",
      "model_module_version": "2.0.0",
      "model_name": "LayoutModel",
      "state": {
       "width": "20px"
      }
     },
     "70ee6d4bdb7d425f944de10adc084b17": {
      "model_module": "@jupyter-widgets/controls",
      "model_module_version": "2.0.0",
      "model_name": "ProgressStyleModel",
      "state": {
       "description_width": ""
      }
     },
     "71785b812b654da9880b354e2f01136d": {
      "model_module": "@jupyter-widgets/controls",
      "model_module_version": "2.0.0",
      "model_name": "HTMLStyleModel",
      "state": {
       "description_width": "",
       "font_size": null,
       "text_color": null
      }
     },
     "724ef790d3094c4bb31cc21ece937adc": {
      "model_module": "@jupyter-widgets/base",
      "model_module_version": "2.0.0",
      "model_name": "LayoutModel",
      "state": {}
     },
     "7260ac876360494eab8e386b294c9886": {
      "model_module": "@jupyter-widgets/controls",
      "model_module_version": "2.0.0",
      "model_name": "HTMLStyleModel",
      "state": {
       "description_width": "",
       "font_size": null,
       "text_color": null
      }
     },
     "727ae3fda9d1446a9a14dceec7eb74b4": {
      "model_module": "@jupyter-widgets/controls",
      "model_module_version": "2.0.0",
      "model_name": "ProgressStyleModel",
      "state": {
       "description_width": ""
      }
     },
     "74335693d2044d6085b4fe1d3e258cfd": {
      "model_module": "@jupyter-widgets/controls",
      "model_module_version": "2.0.0",
      "model_name": "HTMLModel",
      "state": {
       "layout": "IPY_MODEL_f6aecdc9fdea462bb5272fad50d69f1b",
       "style": "IPY_MODEL_ef65b614ebba4f7f8b5d532f91c70463",
       "value": " 1106/? [00:27&lt;00:00, 31.92it/s]"
      }
     },
     "74e841d9f70a4c50a7532922b1cddf1f": {
      "model_module": "@jupyter-widgets/controls",
      "model_module_version": "2.0.0",
      "model_name": "ProgressStyleModel",
      "state": {
       "description_width": ""
      }
     },
     "7735a3332b01408dac4a5f44373150ba": {
      "model_module": "@jupyter-widgets/base",
      "model_module_version": "2.0.0",
      "model_name": "LayoutModel",
      "state": {}
     },
     "79547b7fb7a14d9eab9e65a6c255eddf": {
      "model_module": "@jupyter-widgets/controls",
      "model_module_version": "2.0.0",
      "model_name": "HTMLStyleModel",
      "state": {
       "description_width": "",
       "font_size": null,
       "text_color": null
      }
     },
     "79f5e188754e47f19c9d294083df2f11": {
      "model_module": "@jupyter-widgets/controls",
      "model_module_version": "2.0.0",
      "model_name": "HTMLStyleModel",
      "state": {
       "description_width": "",
       "font_size": null,
       "text_color": null
      }
     },
     "79fe82056f8d477681ba7a3a6e3cda7e": {
      "model_module": "@jupyter-widgets/base",
      "model_module_version": "2.0.0",
      "model_name": "LayoutModel",
      "state": {}
     },
     "7a3e852c5d77466db62550916bbe9b1b": {
      "model_module": "@jupyter-widgets/controls",
      "model_module_version": "2.0.0",
      "model_name": "HTMLModel",
      "state": {
       "layout": "IPY_MODEL_07a6ef65b87f417a9464f33c93f2b290",
       "style": "IPY_MODEL_71785b812b654da9880b354e2f01136d",
       "value": "Frame: "
      }
     },
     "7b02ef5d18094659843b36096ad2564b": {
      "model_module": "@jupyter-widgets/controls",
      "model_module_version": "2.0.0",
      "model_name": "HTMLModel",
      "state": {
       "layout": "IPY_MODEL_c65dce30d5274b7aba60b35cd4de6f80",
       "style": "IPY_MODEL_d94c8d45ae5d46caabeb899e8037b234",
       "value": "Frame: "
      }
     },
     "7ca76b5490804dba97d5e5cbc4ea7460": {
      "model_module": "@jupyter-widgets/controls",
      "model_module_version": "2.0.0",
      "model_name": "HTMLStyleModel",
      "state": {
       "description_width": "",
       "font_size": null,
       "text_color": null
      }
     },
     "7d2736713c5240d286d9b0c015758e6a": {
      "model_module": "@jupyter-widgets/controls",
      "model_module_version": "2.0.0",
      "model_name": "HTMLModel",
      "state": {
       "layout": "IPY_MODEL_bf65c4cf68314af096d72d79c0790718",
       "style": "IPY_MODEL_c9e689e4d45844c68dfa19c4800226b9",
       "value": " 21/1000 [10:28&lt;10:49:54, 39.83s/it]"
      }
     },
     "7d9ec04350394a778052bbb7e6fc023b": {
      "model_module": "@jupyter-widgets/base",
      "model_module_version": "2.0.0",
      "model_name": "LayoutModel",
      "state": {}
     },
     "7e942ce9aa8541979aa2084824c910af": {
      "model_module": "@jupyter-widgets/controls",
      "model_module_version": "2.0.0",
      "model_name": "ProgressStyleModel",
      "state": {
       "description_width": ""
      }
     },
     "808c6f3e64944186a8a9b7ec4d40b626": {
      "model_module": "@jupyter-widgets/controls",
      "model_module_version": "2.0.0",
      "model_name": "ProgressStyleModel",
      "state": {
       "description_width": ""
      }
     },
     "80a344a07d61457fb93d0edcc900eff9": {
      "model_module": "@jupyter-widgets/controls",
      "model_module_version": "2.0.0",
      "model_name": "HTMLModel",
      "state": {
       "layout": "IPY_MODEL_7735a3332b01408dac4a5f44373150ba",
       "style": "IPY_MODEL_a69c62bdbb5343d19a4f650d0ef8193e",
       "value": " 1146/? [00:31&lt;00:00, 37.87it/s]"
      }
     },
     "8242a3a7e1974f1997f5d5731d080446": {
      "model_module": "@jupyter-widgets/controls",
      "model_module_version": "2.0.0",
      "model_name": "HBoxModel",
      "state": {
       "children": [
        "IPY_MODEL_f85d60c72c1c45cb9bc07498fdf545f0",
        "IPY_MODEL_0757cdb7319441158dc656a2faca89be",
        "IPY_MODEL_d0c5fd625fcd43cf959d35a9847c1802"
       ],
       "layout": "IPY_MODEL_690e3d18bebf42089974c073091ecefd"
      }
     },
     "83f7aee510ec47e29b1562c1eda06ac6": {
      "model_module": "@jupyter-widgets/controls",
      "model_module_version": "2.0.0",
      "model_name": "HBoxModel",
      "state": {
       "children": [
        "IPY_MODEL_c29aea485fdf4b4aa82722fb176c2d2a",
        "IPY_MODEL_4c197803cad94d879b2cdf2fd0a6afaf",
        "IPY_MODEL_c046d90959f343c5b51fe57dacf7a5ac"
       ],
       "layout": "IPY_MODEL_62103acc24e24fa3a6b9d55c90faf540"
      }
     },
     "840567ea43d54f0facacfbd5798c7754": {
      "model_module": "@jupyter-widgets/controls",
      "model_module_version": "2.0.0",
      "model_name": "HTMLStyleModel",
      "state": {
       "description_width": "",
       "font_size": null,
       "text_color": null
      }
     },
     "8444cc2aff1646fb99831b5169600ed2": {
      "model_module": "@jupyter-widgets/controls",
      "model_module_version": "2.0.0",
      "model_name": "ProgressStyleModel",
      "state": {
       "description_width": ""
      }
     },
     "84cd70590db94df4a75f20b9e49357f6": {
      "model_module": "@jupyter-widgets/base",
      "model_module_version": "2.0.0",
      "model_name": "LayoutModel",
      "state": {}
     },
     "86dbebe786ed488a98ae6cf0fa02c40a": {
      "model_module": "@jupyter-widgets/controls",
      "model_module_version": "2.0.0",
      "model_name": "HBoxModel",
      "state": {
       "children": [
        "IPY_MODEL_acf740b1fabc4636853990fe44f783cf",
        "IPY_MODEL_6ff67005a0a84b75a32338b230d1781d",
        "IPY_MODEL_7d2736713c5240d286d9b0c015758e6a"
       ],
       "layout": "IPY_MODEL_5503405b0cda4dff9d720eb918f217fb"
      }
     },
     "8802803910e64654bc189e8b2644499d": {
      "model_module": "@jupyter-widgets/controls",
      "model_module_version": "2.0.0",
      "model_name": "HBoxModel",
      "state": {
       "children": [
        "IPY_MODEL_188ec82d647c43a9b838e77c021579a9",
        "IPY_MODEL_45f079b1edf14f50907bd93f4ec96c36",
        "IPY_MODEL_a6d76953f2d4474fbab6e519aa1daffa"
       ],
       "layout": "IPY_MODEL_b045407d4f134bcdace04087a3f8c07c"
      }
     },
     "882f0bd22c1949c3ac5b94c2a809ff1e": {
      "model_module": "@jupyter-widgets/base",
      "model_module_version": "2.0.0",
      "model_name": "LayoutModel",
      "state": {}
     },
     "89e9dd4ff1c34d0f80888eeddda7f97c": {
      "model_module": "@jupyter-widgets/base",
      "model_module_version": "2.0.0",
      "model_name": "LayoutModel",
      "state": {
       "width": "20px"
      }
     },
     "8a81440f0cf3459aaa3dae95046b53cd": {
      "model_module": "@jupyter-widgets/controls",
      "model_module_version": "2.0.0",
      "model_name": "ProgressStyleModel",
      "state": {
       "description_width": ""
      }
     },
     "8b475b5f645142d5ab7748e296f8e8f3": {
      "model_module": "@jupyter-widgets/controls",
      "model_module_version": "2.0.0",
      "model_name": "HBoxModel",
      "state": {
       "children": [
        "IPY_MODEL_c725bf554de34c91af7ce997cc42d7aa",
        "IPY_MODEL_c51eb25d674c4c71b64fddd580835a2e",
        "IPY_MODEL_a5b7853be1f54fac9783dc81700a74d1"
       ],
       "layout": "IPY_MODEL_bea6d0e95c0b443ea3231be5d1d95c5d"
      }
     },
     "8cc935fcd1674794be7673cfb80c8648": {
      "model_module": "@jupyter-widgets/controls",
      "model_module_version": "2.0.0",
      "model_name": "ProgressStyleModel",
      "state": {
       "description_width": ""
      }
     },
     "900bee73eadd494a9b5c431487a79ccf": {
      "model_module": "@jupyter-widgets/base",
      "model_module_version": "2.0.0",
      "model_name": "LayoutModel",
      "state": {}
     },
     "900fd39ac0684ec583bc988e7a8577ff": {
      "model_module": "@jupyter-widgets/base",
      "model_module_version": "2.0.0",
      "model_name": "LayoutModel",
      "state": {
       "width": "20px"
      }
     },
     "91be092913374808bcab6a56c0896619": {
      "model_module": "@jupyter-widgets/base",
      "model_module_version": "2.0.0",
      "model_name": "LayoutModel",
      "state": {}
     },
     "91f7d9bbd795441f9fd2f0733200c3d2": {
      "model_module": "@jupyter-widgets/controls",
      "model_module_version": "2.0.0",
      "model_name": "HBoxModel",
      "state": {
       "children": [
        "IPY_MODEL_a9988e93e9cb42a5b7bbd99b03629eb8",
        "IPY_MODEL_1501d07fabae47b3adfaa957a3c9ff86",
        "IPY_MODEL_80a344a07d61457fb93d0edcc900eff9"
       ],
       "layout": "IPY_MODEL_b8b2e8be5a194654a94fd17ef813a5bc"
      }
     },
     "92151a183c94467a9065d1d9d99063b6": {
      "model_module": "@jupyter-widgets/controls",
      "model_module_version": "2.0.0",
      "model_name": "FloatProgressModel",
      "state": {
       "bar_style": "danger",
       "layout": "IPY_MODEL_017f765057cf4fdfa3482c6a615dec8c",
       "max": 1,
       "style": "IPY_MODEL_1d5b34017b1b41f39787a77e25b3e07a",
       "value": 1
      }
     },
     "975d0f9090004034a5a40711163d834c": {
      "model_module": "@jupyter-widgets/controls",
      "model_module_version": "2.0.0",
      "model_name": "HTMLStyleModel",
      "state": {
       "description_width": "",
       "font_size": null,
       "text_color": null
      }
     },
     "98827740e1ac43238cd4760b374a2dac": {
      "model_module": "@jupyter-widgets/base",
      "model_module_version": "2.0.0",
      "model_name": "LayoutModel",
      "state": {}
     },
     "997cad5028f644d5b1b1e42e6648a084": {
      "model_module": "@jupyter-widgets/controls",
      "model_module_version": "2.0.0",
      "model_name": "HTMLModel",
      "state": {
       "layout": "IPY_MODEL_6b74d848da88410a96e2193a391d9f5d",
       "style": "IPY_MODEL_79547b7fb7a14d9eab9e65a6c255eddf",
       "value": "Frame: "
      }
     },
     "99cd01b7e70f4be99da2219e286c4d4d": {
      "model_module": "@jupyter-widgets/controls",
      "model_module_version": "2.0.0",
      "model_name": "HTMLModel",
      "state": {
       "layout": "IPY_MODEL_b2670c9a6f194e4a8cd349c6b53fbff9",
       "style": "IPY_MODEL_342c574bb6f84bca848ad6566ec8179e",
       "value": "Frame: "
      }
     },
     "9c04547f66544c3ab72cc33c371af875": {
      "model_module": "@jupyter-widgets/controls",
      "model_module_version": "2.0.0",
      "model_name": "HTMLModel",
      "state": {
       "layout": "IPY_MODEL_cc366334ea194adc8f1c6f765e21ba6a",
       "style": "IPY_MODEL_2657a84de71041b798a04cedf7313bc4",
       "value": "Frame: "
      }
     },
     "9ced8e8828e24d9ba0c05e3bdb15bc6e": {
      "model_module": "@jupyter-widgets/base",
      "model_module_version": "2.0.0",
      "model_name": "LayoutModel",
      "state": {}
     },
     "9da8427dc83f47a2bad9f055b6bfa1da": {
      "model_module": "@jupyter-widgets/controls",
      "model_module_version": "2.0.0",
      "model_name": "HTMLModel",
      "state": {
       "layout": "IPY_MODEL_12f803b143cb417eb7945737f736d615",
       "style": "IPY_MODEL_6d2cce389d5e48ccadb8f6a935dc955b",
       "value": "Frame: "
      }
     },
     "9e4fa673968c48d88db0237c7a660c21": {
      "model_module": "@jupyter-widgets/base",
      "model_module_version": "2.0.0",
      "model_name": "LayoutModel",
      "state": {
       "width": "20px"
      }
     },
     "a316f5ae615c45c7ae0ff84c9632a6e8": {
      "model_module": "@jupyter-widgets/controls",
      "model_module_version": "2.0.0",
      "model_name": "HBoxModel",
      "state": {
       "children": [
        "IPY_MODEL_2ac63b8bbd824823ad8e5935b36ca474",
        "IPY_MODEL_b741d766d98a41d5bb7b7d1908ebb1d7",
        "IPY_MODEL_c26717a5336040c8a519da1b46c08556"
       ],
       "layout": "IPY_MODEL_79fe82056f8d477681ba7a3a6e3cda7e"
      }
     },
     "a56752f492574caa9dfacc709895ad82": {
      "model_module": "@jupyter-widgets/base",
      "model_module_version": "2.0.0",
      "model_name": "LayoutModel",
      "state": {
       "width": "20px"
      }
     },
     "a5b7853be1f54fac9783dc81700a74d1": {
      "model_module": "@jupyter-widgets/controls",
      "model_module_version": "2.0.0",
      "model_name": "HTMLModel",
      "state": {
       "layout": "IPY_MODEL_91be092913374808bcab6a56c0896619",
       "style": "IPY_MODEL_61fc0941ed9a4acdb44c632bdf4223e3",
       "value": " 979/? [00:24&lt;00:00, 50.65it/s]"
      }
     },
     "a69c62bdbb5343d19a4f650d0ef8193e": {
      "model_module": "@jupyter-widgets/controls",
      "model_module_version": "2.0.0",
      "model_name": "HTMLStyleModel",
      "state": {
       "description_width": "",
       "font_size": null,
       "text_color": null
      }
     },
     "a6d76953f2d4474fbab6e519aa1daffa": {
      "model_module": "@jupyter-widgets/controls",
      "model_module_version": "2.0.0",
      "model_name": "HTMLModel",
      "state": {
       "layout": "IPY_MODEL_5d151acce65248c7ad69f592668a66a5",
       "style": "IPY_MODEL_bd7237a27532489d82bf247a84518ec4",
       "value": " 1061/? [00:31&lt;00:00, 50.41it/s]"
      }
     },
     "a76ebec4430d4a609d88616bbb4877f2": {
      "model_module": "@jupyter-widgets/base",
      "model_module_version": "2.0.0",
      "model_name": "LayoutModel",
      "state": {}
     },
     "a85d56bdd94049ee8607610c474622d0": {
      "model_module": "@jupyter-widgets/base",
      "model_module_version": "2.0.0",
      "model_name": "LayoutModel",
      "state": {}
     },
     "a9988e93e9cb42a5b7bbd99b03629eb8": {
      "model_module": "@jupyter-widgets/controls",
      "model_module_version": "2.0.0",
      "model_name": "HTMLModel",
      "state": {
       "layout": "IPY_MODEL_5774e7a1b74d41888735267b39f29c00",
       "style": "IPY_MODEL_975d0f9090004034a5a40711163d834c",
       "value": "Frame: "
      }
     },
     "aa4f12596972498080f5c03546623eba": {
      "model_module": "@jupyter-widgets/controls",
      "model_module_version": "2.0.0",
      "model_name": "HBoxModel",
      "state": {
       "children": [
        "IPY_MODEL_625efcfd6c334242a47130ebfee4a738",
        "IPY_MODEL_ee9003cbedc44b33b004c351ba78da63",
        "IPY_MODEL_3e45d329b1bb46a28852786c624c1d98"
       ],
       "layout": "IPY_MODEL_077edb24346340ef826c9f40d70df289"
      }
     },
     "ab4a3c49effd436f996429394190c312": {
      "model_module": "@jupyter-widgets/controls",
      "model_module_version": "2.0.0",
      "model_name": "HTMLModel",
      "state": {
       "layout": "IPY_MODEL_359edb93624046279936122bca3ff71d",
       "style": "IPY_MODEL_d1f8094e196b47209dcb863ecf8775fd",
       "value": " 1011/? [00:23&lt;00:00, 58.73it/s]"
      }
     },
     "acc3f9ad9bd14acdafdcb85d58a6f47b": {
      "model_module": "@jupyter-widgets/base",
      "model_module_version": "2.0.0",
      "model_name": "LayoutModel",
      "state": {}
     },
     "acf740b1fabc4636853990fe44f783cf": {
      "model_module": "@jupyter-widgets/controls",
      "model_module_version": "2.0.0",
      "model_name": "HTMLModel",
      "state": {
       "layout": "IPY_MODEL_1ab692894fdc4654859760a823d10c3f",
       "style": "IPY_MODEL_5ed87a2ace164b9ca5ef76627026ed7e",
       "value": "Episode:   2%"
      }
     },
     "ada6efa2b506422baa7c7daf7dbc8cd8": {
      "model_module": "@jupyter-widgets/controls",
      "model_module_version": "2.0.0",
      "model_name": "FloatProgressModel",
      "state": {
       "bar_style": "danger",
       "layout": "IPY_MODEL_53bc5053f5f54036aaeacaa508ab619f",
       "max": 1,
       "style": "IPY_MODEL_b61dfc9ee0e84651adf6d7664d0bdaff",
       "value": 1
      }
     },
     "ae1cb869856b4b5f8441cf575d9f3c69": {
      "model_module": "@jupyter-widgets/base",
      "model_module_version": "2.0.0",
      "model_name": "LayoutModel",
      "state": {}
     },
     "ae62e6d8195a4b6199338fb8394390c4": {
      "model_module": "@jupyter-widgets/controls",
      "model_module_version": "2.0.0",
      "model_name": "HTMLModel",
      "state": {
       "layout": "IPY_MODEL_03b9d0bd12d94fc7991d47cbd9d40554",
       "style": "IPY_MODEL_2a611b0b40df433fa7efd8b77eaffba6",
       "value": " 1181/? [00:38&lt;00:00, 27.75it/s]"
      }
     },
     "b00a865c0bb34d52b3f545931b4e2691": {
      "model_module": "@jupyter-widgets/controls",
      "model_module_version": "2.0.0",
      "model_name": "ProgressStyleModel",
      "state": {
       "description_width": ""
      }
     },
     "b045407d4f134bcdace04087a3f8c07c": {
      "model_module": "@jupyter-widgets/base",
      "model_module_version": "2.0.0",
      "model_name": "LayoutModel",
      "state": {}
     },
     "b2429522e58848b7a988a0e8d95c387a": {
      "model_module": "@jupyter-widgets/controls",
      "model_module_version": "2.0.0",
      "model_name": "HTMLStyleModel",
      "state": {
       "description_width": "",
       "font_size": null,
       "text_color": null
      }
     },
     "b2670c9a6f194e4a8cd349c6b53fbff9": {
      "model_module": "@jupyter-widgets/base",
      "model_module_version": "2.0.0",
      "model_name": "LayoutModel",
      "state": {}
     },
     "b3d53ab7fb2a42b887f6f4442e5fc111": {
      "model_module": "@jupyter-widgets/controls",
      "model_module_version": "2.0.0",
      "model_name": "HTMLModel",
      "state": {
       "layout": "IPY_MODEL_152f8c5cab5645548a4ed88cb24fcfd7",
       "style": "IPY_MODEL_39eed3ae050d4c3a99270b312533da04",
       "value": " 969/? [00:24&lt;00:00, 53.05it/s]"
      }
     },
     "b519ac679b9e47f092f17ba45b71a010": {
      "model_module": "@jupyter-widgets/base",
      "model_module_version": "2.0.0",
      "model_name": "LayoutModel",
      "state": {
       "width": "20px"
      }
     },
     "b61dfc9ee0e84651adf6d7664d0bdaff": {
      "model_module": "@jupyter-widgets/controls",
      "model_module_version": "2.0.0",
      "model_name": "ProgressStyleModel",
      "state": {
       "description_width": ""
      }
     },
     "b741d766d98a41d5bb7b7d1908ebb1d7": {
      "model_module": "@jupyter-widgets/controls",
      "model_module_version": "2.0.0",
      "model_name": "FloatProgressModel",
      "state": {
       "bar_style": "danger",
       "layout": "IPY_MODEL_9e4fa673968c48d88db0237c7a660c21",
       "max": 1,
       "style": "IPY_MODEL_c2e3735845d5431bab75667e75097390",
       "value": 1
      }
     },
     "b7c0e66d0f5344978a43859ea35f1e5c": {
      "model_module": "@jupyter-widgets/base",
      "model_module_version": "2.0.0",
      "model_name": "LayoutModel",
      "state": {}
     },
     "b8b2e8be5a194654a94fd17ef813a5bc": {
      "model_module": "@jupyter-widgets/base",
      "model_module_version": "2.0.0",
      "model_name": "LayoutModel",
      "state": {}
     },
     "b98bf74d62474d9d8f38e907d4a97555": {
      "model_module": "@jupyter-widgets/controls",
      "model_module_version": "2.0.0",
      "model_name": "HBoxModel",
      "state": {
       "children": [
        "IPY_MODEL_3c7db4553d1c4a3ebad6ec5cc143f4e8",
        "IPY_MODEL_e2e1ded77d2b4db59bc2f0b26a49a3ca",
        "IPY_MODEL_74335693d2044d6085b4fe1d3e258cfd"
       ],
       "layout": "IPY_MODEL_38fccac536314ca99463fe272f0021ad"
      }
     },
     "ba7846e7ff7a450b82b793e177f80dff": {
      "model_module": "@jupyter-widgets/controls",
      "model_module_version": "2.0.0",
      "model_name": "FloatProgressModel",
      "state": {
       "bar_style": "danger",
       "layout": "IPY_MODEL_69a69458f7f44a3aa5b9882558d4cb41",
       "max": 1,
       "style": "IPY_MODEL_f4aaf7682e1f464792c31c2fc8b0478d",
       "value": 1
      }
     },
     "ba7e7b917f3a4c42948000a94c03b983": {
      "model_module": "@jupyter-widgets/controls",
      "model_module_version": "2.0.0",
      "model_name": "HTMLModel",
      "state": {
       "layout": "IPY_MODEL_6c83033020da4d4f8d87c71185480f64",
       "style": "IPY_MODEL_1dbc46f59ce24488afbc1337f9b151e8",
       "value": "Frame: "
      }
     },
     "bab6d5c8e0d0429f9a6ed375a8e8f31b": {
      "model_module": "@jupyter-widgets/controls",
      "model_module_version": "2.0.0",
      "model_name": "HTMLModel",
      "state": {
       "layout": "IPY_MODEL_e02875a9594b448c824607b105eccbc5",
       "style": "IPY_MODEL_79f5e188754e47f19c9d294083df2f11",
       "value": "Frame: "
      }
     },
     "baf620d4e96847d2b580e5c0430c8dcf": {
      "model_module": "@jupyter-widgets/base",
      "model_module_version": "2.0.0",
      "model_name": "LayoutModel",
      "state": {}
     },
     "bc23f89dfdfb44b6bd15c706866c3299": {
      "model_module": "@jupyter-widgets/controls",
      "model_module_version": "2.0.0",
      "model_name": "HTMLModel",
      "state": {
       "layout": "IPY_MODEL_7d9ec04350394a778052bbb7e6fc023b",
       "style": "IPY_MODEL_29e81ccc1b884b7db072f08bda7fbfcc",
       "value": " 1098/? [00:26&lt;00:00, 35.13it/s]"
      }
     },
     "bd7237a27532489d82bf247a84518ec4": {
      "model_module": "@jupyter-widgets/controls",
      "model_module_version": "2.0.0",
      "model_name": "HTMLStyleModel",
      "state": {
       "description_width": "",
       "font_size": null,
       "text_color": null
      }
     },
     "bea6d0e95c0b443ea3231be5d1d95c5d": {
      "model_module": "@jupyter-widgets/base",
      "model_module_version": "2.0.0",
      "model_name": "LayoutModel",
      "state": {}
     },
     "bf65c4cf68314af096d72d79c0790718": {
      "model_module": "@jupyter-widgets/base",
      "model_module_version": "2.0.0",
      "model_name": "LayoutModel",
      "state": {}
     },
     "c046d90959f343c5b51fe57dacf7a5ac": {
      "model_module": "@jupyter-widgets/controls",
      "model_module_version": "2.0.0",
      "model_name": "HTMLModel",
      "state": {
       "layout": "IPY_MODEL_b7c0e66d0f5344978a43859ea35f1e5c",
       "style": "IPY_MODEL_da5c07f78a724d7992ae3ae0bf32ee66",
       "value": " 969/? [00:28&lt;00:00, 32.60it/s]"
      }
     },
     "c115334fb297415891241ea6d72e8582": {
      "model_module": "@jupyter-widgets/controls",
      "model_module_version": "2.0.0",
      "model_name": "HTMLStyleModel",
      "state": {
       "description_width": "",
       "font_size": null,
       "text_color": null
      }
     },
     "c26717a5336040c8a519da1b46c08556": {
      "model_module": "@jupyter-widgets/controls",
      "model_module_version": "2.0.0",
      "model_name": "HTMLModel",
      "state": {
       "layout": "IPY_MODEL_a85d56bdd94049ee8607610c474622d0",
       "style": "IPY_MODEL_f636296fb00c4738a749df16131864ca",
       "value": " 1142/? [00:27&lt;00:00, 49.78it/s]"
      }
     },
     "c29aea485fdf4b4aa82722fb176c2d2a": {
      "model_module": "@jupyter-widgets/controls",
      "model_module_version": "2.0.0",
      "model_name": "HTMLModel",
      "state": {
       "layout": "IPY_MODEL_e6323155235640bc99d3e6a8a71fe663",
       "style": "IPY_MODEL_840567ea43d54f0facacfbd5798c7754",
       "value": "Frame: "
      }
     },
     "c2e3735845d5431bab75667e75097390": {
      "model_module": "@jupyter-widgets/controls",
      "model_module_version": "2.0.0",
      "model_name": "ProgressStyleModel",
      "state": {
       "description_width": ""
      }
     },
     "c51eb25d674c4c71b64fddd580835a2e": {
      "model_module": "@jupyter-widgets/controls",
      "model_module_version": "2.0.0",
      "model_name": "FloatProgressModel",
      "state": {
       "bar_style": "danger",
       "layout": "IPY_MODEL_255f20df79cc41cd85c507488288e0d1",
       "max": 1,
       "style": "IPY_MODEL_516d3c62ee30484bb1ae6141035a941b",
       "value": 1
      }
     },
     "c65dce30d5274b7aba60b35cd4de6f80": {
      "model_module": "@jupyter-widgets/base",
      "model_module_version": "2.0.0",
      "model_name": "LayoutModel",
      "state": {}
     },
     "c725bf554de34c91af7ce997cc42d7aa": {
      "model_module": "@jupyter-widgets/controls",
      "model_module_version": "2.0.0",
      "model_name": "HTMLModel",
      "state": {
       "layout": "IPY_MODEL_0ca5015dbf4849ebb9b0728f436a89fb",
       "style": "IPY_MODEL_27cd7d2a28f04586bcd95fbc21836659",
       "value": "Frame: "
      }
     },
     "c7267e8c9498468f98b7e092562e1fba": {
      "model_module": "@jupyter-widgets/base",
      "model_module_version": "2.0.0",
      "model_name": "LayoutModel",
      "state": {}
     },
     "c882107b526d4a58bb71a61beef054e6": {
      "model_module": "@jupyter-widgets/base",
      "model_module_version": "2.0.0",
      "model_name": "LayoutModel",
      "state": {}
     },
     "c8d7243512264a4d9b6ffe8e52fbfea7": {
      "model_module": "@jupyter-widgets/base",
      "model_module_version": "2.0.0",
      "model_name": "LayoutModel",
      "state": {}
     },
     "c9e689e4d45844c68dfa19c4800226b9": {
      "model_module": "@jupyter-widgets/controls",
      "model_module_version": "2.0.0",
      "model_name": "HTMLStyleModel",
      "state": {
       "description_width": "",
       "font_size": null,
       "text_color": null
      }
     },
     "cc366334ea194adc8f1c6f765e21ba6a": {
      "model_module": "@jupyter-widgets/base",
      "model_module_version": "2.0.0",
      "model_name": "LayoutModel",
      "state": {}
     },
     "cc5635d5e49241e0adab7b087032c181": {
      "model_module": "@jupyter-widgets/base",
      "model_module_version": "2.0.0",
      "model_name": "LayoutModel",
      "state": {}
     },
     "ccbe948384384ccfb43a80d57ffa6b79": {
      "model_module": "@jupyter-widgets/base",
      "model_module_version": "2.0.0",
      "model_name": "LayoutModel",
      "state": {}
     },
     "cd607ea6af30480d8f04e68436ae38a6": {
      "model_module": "@jupyter-widgets/base",
      "model_module_version": "2.0.0",
      "model_name": "LayoutModel",
      "state": {}
     },
     "ce48b1dc1f38499fb06c680d89cde78c": {
      "model_module": "@jupyter-widgets/base",
      "model_module_version": "2.0.0",
      "model_name": "LayoutModel",
      "state": {}
     },
     "cfe28a268a214271bd20a12d684bda56": {
      "model_module": "@jupyter-widgets/base",
      "model_module_version": "2.0.0",
      "model_name": "LayoutModel",
      "state": {}
     },
     "d00645090a8e46499266beece26c95be": {
      "model_module": "@jupyter-widgets/controls",
      "model_module_version": "2.0.0",
      "model_name": "HTMLStyleModel",
      "state": {
       "description_width": "",
       "font_size": null,
       "text_color": null
      }
     },
     "d0c5fd625fcd43cf959d35a9847c1802": {
      "model_module": "@jupyter-widgets/controls",
      "model_module_version": "2.0.0",
      "model_name": "HTMLModel",
      "state": {
       "layout": "IPY_MODEL_900bee73eadd494a9b5c431487a79ccf",
       "style": "IPY_MODEL_f40677daf1f6416eb59fd77657a3fa81",
       "value": " 1075/? [00:26&lt;00:00, 36.86it/s]"
      }
     },
     "d13c8d08217f471285f829e444d249d6": {
      "model_module": "@jupyter-widgets/controls",
      "model_module_version": "2.0.0",
      "model_name": "FloatProgressModel",
      "state": {
       "bar_style": "danger",
       "layout": "IPY_MODEL_702c9837c08d49ae93484b93328aa569",
       "max": 1,
       "style": "IPY_MODEL_74e841d9f70a4c50a7532922b1cddf1f",
       "value": 1
      }
     },
     "d1f8094e196b47209dcb863ecf8775fd": {
      "model_module": "@jupyter-widgets/controls",
      "model_module_version": "2.0.0",
      "model_name": "HTMLStyleModel",
      "state": {
       "description_width": "",
       "font_size": null,
       "text_color": null
      }
     },
     "d3cec91da33f4e5ab4df6e7ea0146346": {
      "model_module": "@jupyter-widgets/controls",
      "model_module_version": "2.0.0",
      "model_name": "HTMLStyleModel",
      "state": {
       "description_width": "",
       "font_size": null,
       "text_color": null
      }
     },
     "d49fa6d0b84b4611b5ce4c59d5d5dd42": {
      "model_module": "@jupyter-widgets/controls",
      "model_module_version": "2.0.0",
      "model_name": "HTMLStyleModel",
      "state": {
       "description_width": "",
       "font_size": null,
       "text_color": null
      }
     },
     "d72ea355d266441bacdcffc88cc08ebf": {
      "model_module": "@jupyter-widgets/controls",
      "model_module_version": "2.0.0",
      "model_name": "HBoxModel",
      "state": {
       "children": [
        "IPY_MODEL_1f818a4574ce4e57b708fb6abe4f8809",
        "IPY_MODEL_33ffa707bd0542539ca1d52545739348",
        "IPY_MODEL_ffe7c72973a142debc8103d788d25e98"
       ],
       "layout": "IPY_MODEL_2a7d5f4eaf96474b8066fbd997aaa7fd"
      }
     },
     "d94c8d45ae5d46caabeb899e8037b234": {
      "model_module": "@jupyter-widgets/controls",
      "model_module_version": "2.0.0",
      "model_name": "HTMLStyleModel",
      "state": {
       "description_width": "",
       "font_size": null,
       "text_color": null
      }
     },
     "da5c07f78a724d7992ae3ae0bf32ee66": {
      "model_module": "@jupyter-widgets/controls",
      "model_module_version": "2.0.0",
      "model_name": "HTMLStyleModel",
      "state": {
       "description_width": "",
       "font_size": null,
       "text_color": null
      }
     },
     "ddf0e8909188419e97c05a2684eaddf3": {
      "model_module": "@jupyter-widgets/controls",
      "model_module_version": "2.0.0",
      "model_name": "HTMLModel",
      "state": {
       "layout": "IPY_MODEL_fd92c00fbc8d4bdf9a2826f52c91c93d",
       "style": "IPY_MODEL_7ca76b5490804dba97d5e5cbc4ea7460",
       "value": "Frame: "
      }
     },
     "de7bc4a7c8944ae6a6026ee477bad182": {
      "model_module": "@jupyter-widgets/controls",
      "model_module_version": "2.0.0",
      "model_name": "HTMLStyleModel",
      "state": {
       "description_width": "",
       "font_size": null,
       "text_color": null
      }
     },
     "df21e10d5b9a4685b98151011d817c48": {
      "model_module": "@jupyter-widgets/controls",
      "model_module_version": "2.0.0",
      "model_name": "HTMLModel",
      "state": {
       "layout": "IPY_MODEL_163567ad812c42eb8bf5eddf938b0614",
       "style": "IPY_MODEL_07c05655f7444b76b2833acad83b79e7",
       "value": " 996/? [00:27&lt;00:00, 52.74it/s]"
      }
     },
     "e02875a9594b448c824607b105eccbc5": {
      "model_module": "@jupyter-widgets/base",
      "model_module_version": "2.0.0",
      "model_name": "LayoutModel",
      "state": {}
     },
     "e2e1ded77d2b4db59bc2f0b26a49a3ca": {
      "model_module": "@jupyter-widgets/controls",
      "model_module_version": "2.0.0",
      "model_name": "FloatProgressModel",
      "state": {
       "bar_style": "danger",
       "layout": "IPY_MODEL_fb9573eed35f4065af1bd059a36ff48e",
       "max": 1,
       "style": "IPY_MODEL_426123afbc8346319cef00f95462a9b5",
       "value": 1
      }
     },
     "e4d5319da8114fb09c76dce09fdc3329": {
      "model_module": "@jupyter-widgets/base",
      "model_module_version": "2.0.0",
      "model_name": "LayoutModel",
      "state": {}
     },
     "e6323155235640bc99d3e6a8a71fe663": {
      "model_module": "@jupyter-widgets/base",
      "model_module_version": "2.0.0",
      "model_name": "LayoutModel",
      "state": {}
     },
     "e6e4c285e93448e08d1858ba04f8c8a8": {
      "model_module": "@jupyter-widgets/base",
      "model_module_version": "2.0.0",
      "model_name": "LayoutModel",
      "state": {}
     },
     "e80730f5f4ea4e4cad9b311024d255c1": {
      "model_module": "@jupyter-widgets/controls",
      "model_module_version": "2.0.0",
      "model_name": "HTMLModel",
      "state": {
       "layout": "IPY_MODEL_baf620d4e96847d2b580e5c0430c8dcf",
       "style": "IPY_MODEL_c115334fb297415891241ea6d72e8582",
       "value": "Frame: "
      }
     },
     "e873614a555349b0b4338517cae7ea5a": {
      "model_module": "@jupyter-widgets/controls",
      "model_module_version": "2.0.0",
      "model_name": "HBoxModel",
      "state": {
       "children": [
        "IPY_MODEL_9da8427dc83f47a2bad9f055b6bfa1da",
        "IPY_MODEL_d13c8d08217f471285f829e444d249d6",
        "IPY_MODEL_299702afb50c41a0a7dc4ad10266544c"
       ],
       "layout": "IPY_MODEL_6da7707360d74ae0a9eda12f0ba0b0dc"
      }
     },
     "ecb27aea009c488bb20648d45c046478": {
      "model_module": "@jupyter-widgets/controls",
      "model_module_version": "2.0.0",
      "model_name": "HTMLStyleModel",
      "state": {
       "description_width": "",
       "font_size": null,
       "text_color": null
      }
     },
     "ed492b86b4a342b9afb25ac77099a6bf": {
      "model_module": "@jupyter-widgets/controls",
      "model_module_version": "2.0.0",
      "model_name": "HBoxModel",
      "state": {
       "children": [
        "IPY_MODEL_997cad5028f644d5b1b1e42e6648a084",
        "IPY_MODEL_ba7846e7ff7a450b82b793e177f80dff",
        "IPY_MODEL_1b02a1e8bc7142079c04f4ac57cd17a1"
       ],
       "layout": "IPY_MODEL_acc3f9ad9bd14acdafdcb85d58a6f47b"
      }
     },
     "edea611ed2c644fc90f27a99891e33e1": {
      "model_module": "@jupyter-widgets/base",
      "model_module_version": "2.0.0",
      "model_name": "LayoutModel",
      "state": {}
     },
     "ee9003cbedc44b33b004c351ba78da63": {
      "model_module": "@jupyter-widgets/controls",
      "model_module_version": "2.0.0",
      "model_name": "FloatProgressModel",
      "state": {
       "bar_style": "danger",
       "layout": "IPY_MODEL_5977ad75a1bf429b9c248248d90ba512",
       "max": 1,
       "style": "IPY_MODEL_727ae3fda9d1446a9a14dceec7eb74b4",
       "value": 1
      }
     },
     "eecbc0e136be45948f4c33103fc7e3ca": {
      "model_module": "@jupyter-widgets/controls",
      "model_module_version": "2.0.0",
      "model_name": "HTMLStyleModel",
      "state": {
       "description_width": "",
       "font_size": null,
       "text_color": null
      }
     },
     "ef65b614ebba4f7f8b5d532f91c70463": {
      "model_module": "@jupyter-widgets/controls",
      "model_module_version": "2.0.0",
      "model_name": "HTMLStyleModel",
      "state": {
       "description_width": "",
       "font_size": null,
       "text_color": null
      }
     },
     "f12351b973d24ff186bf5208860d8f59": {
      "model_module": "@jupyter-widgets/controls",
      "model_module_version": "2.0.0",
      "model_name": "HTMLStyleModel",
      "state": {
       "description_width": "",
       "font_size": null,
       "text_color": null
      }
     },
     "f2641816ed2447c0b5508362858cda80": {
      "model_module": "@jupyter-widgets/controls",
      "model_module_version": "2.0.0",
      "model_name": "HTMLModel",
      "state": {
       "layout": "IPY_MODEL_f957efbbea344fd8a82c020fc9beb89c",
       "style": "IPY_MODEL_ecb27aea009c488bb20648d45c046478",
       "value": " 1008/? [00:33&lt;00:00, 44.60it/s]"
      }
     },
     "f3d77a11de014410a5b787e7a898a6bf": {
      "model_module": "@jupyter-widgets/controls",
      "model_module_version": "2.0.0",
      "model_name": "FloatProgressModel",
      "state": {
       "bar_style": "danger",
       "layout": "IPY_MODEL_17fae03c2c2b4fe2ac263e6208871fa7",
       "max": 1,
       "style": "IPY_MODEL_4feb03796a6c4edc86db4655eca12858",
       "value": 1
      }
     },
     "f40677daf1f6416eb59fd77657a3fa81": {
      "model_module": "@jupyter-widgets/controls",
      "model_module_version": "2.0.0",
      "model_name": "HTMLStyleModel",
      "state": {
       "description_width": "",
       "font_size": null,
       "text_color": null
      }
     },
     "f4731807862c4460ac738c205ea04a2d": {
      "model_module": "@jupyter-widgets/base",
      "model_module_version": "2.0.0",
      "model_name": "LayoutModel",
      "state": {
       "width": "20px"
      }
     },
     "f4aaf7682e1f464792c31c2fc8b0478d": {
      "model_module": "@jupyter-widgets/controls",
      "model_module_version": "2.0.0",
      "model_name": "ProgressStyleModel",
      "state": {
       "description_width": ""
      }
     },
     "f636296fb00c4738a749df16131864ca": {
      "model_module": "@jupyter-widgets/controls",
      "model_module_version": "2.0.0",
      "model_name": "HTMLStyleModel",
      "state": {
       "description_width": "",
       "font_size": null,
       "text_color": null
      }
     },
     "f6aecdc9fdea462bb5272fad50d69f1b": {
      "model_module": "@jupyter-widgets/base",
      "model_module_version": "2.0.0",
      "model_name": "LayoutModel",
      "state": {}
     },
     "f704d8f26cb34d019263212f228c5680": {
      "model_module": "@jupyter-widgets/controls",
      "model_module_version": "2.0.0",
      "model_name": "FloatProgressModel",
      "state": {
       "bar_style": "danger",
       "layout": "IPY_MODEL_17915e632c334eec8a80afb3db4057ac",
       "max": 1,
       "style": "IPY_MODEL_8444cc2aff1646fb99831b5169600ed2",
       "value": 1
      }
     },
     "f85d60c72c1c45cb9bc07498fdf545f0": {
      "model_module": "@jupyter-widgets/controls",
      "model_module_version": "2.0.0",
      "model_name": "HTMLModel",
      "state": {
       "layout": "IPY_MODEL_24bdc458cf994975aecb4782d3157ceb",
       "style": "IPY_MODEL_d00645090a8e46499266beece26c95be",
       "value": "Frame: "
      }
     },
     "f957efbbea344fd8a82c020fc9beb89c": {
      "model_module": "@jupyter-widgets/base",
      "model_module_version": "2.0.0",
      "model_name": "LayoutModel",
      "state": {}
     },
     "fb9573eed35f4065af1bd059a36ff48e": {
      "model_module": "@jupyter-widgets/base",
      "model_module_version": "2.0.0",
      "model_name": "LayoutModel",
      "state": {
       "width": "20px"
      }
     },
     "fd92c00fbc8d4bdf9a2826f52c91c93d": {
      "model_module": "@jupyter-widgets/base",
      "model_module_version": "2.0.0",
      "model_name": "LayoutModel",
      "state": {}
     },
     "ff8d84e9726e45c88af6d2e920604741": {
      "model_module": "@jupyter-widgets/controls",
      "model_module_version": "2.0.0",
      "model_name": "ProgressStyleModel",
      "state": {
       "description_width": ""
      }
     },
     "ffe7c72973a142debc8103d788d25e98": {
      "model_module": "@jupyter-widgets/controls",
      "model_module_version": "2.0.0",
      "model_name": "HTMLModel",
      "state": {
       "layout": "IPY_MODEL_61a2890d20864f4ca0d9d669e732f31b",
       "style": "IPY_MODEL_f12351b973d24ff186bf5208860d8f59",
       "value": " 1187/? [00:28&lt;00:00, 51.27it/s]"
      }
     }
    },
    "version_major": 2,
    "version_minor": 0
   }
  }
 },
 "nbformat": 4,
 "nbformat_minor": 5
}
