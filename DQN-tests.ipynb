{
 "cells": [
  {
   "cell_type": "code",
   "execution_count": null,
   "id": "9864bc25-959e-48c5-a87a-5df7e6219067",
   "metadata": {},
   "outputs": [],
   "source": [
    "import operator as ops\n",
    "import pathlib\n",
    "from collections import Counter, defaultdict\n",
    "from itertools import count\n",
    "\n",
    "import numpy as np\n",
    "import pandas as pd\n",
    "import seaborn as sns\n",
    "import torch\n",
    "from matplotlib import pyplot as plt\n",
    "from tqdm.notebook import tqdm\n",
    "\n",
    "from arkanoid import Arkanoid\n",
    "from dqn import DQNAgent\n",
    "from nes_py.wrappers import JoypadSpace\n",
    "from torchinfo import summary\n",
    "\n",
    "ACTIONS = [[\"NOOP\"], [\"left\"], [\"right\"], [\"A\"]]\n",
    "\n",
    "env = JoypadSpace(Arkanoid(False), ACTIONS)"
   ]
  },
  {
   "cell_type": "code",
   "execution_count": null,
   "id": "68cacb7e-dd26-457d-8687-a0f38f5e3ec2",
   "metadata": {},
   "outputs": [],
   "source": [
    "checkpoint_dir: pathlib.Path = pathlib.Path(\"checkpoints\")\n",
    "batch_size: int = 32\n",
    "episodes: int = 1200\n",
    "save_every: int = 10_000\n",
    "\n",
    "agent = DQNAgent(env, batch_size=batch_size)\n",
    "\n",
    "checkpoint_dir.mkdir(parents=True, exist_ok=True)\n",
    "latest_dir = checkpoint_dir / \"latest\"\n",
    "latest_dir.mkdir(exist_ok=True)\n",
    "\n",
    "c = count()\n",
    "\n",
    "\n",
    "def rgb2gray(rgb):\n",
    "    return np.dot(rgb[..., :3], [0.2989, 0.5870, 0.1140])\n",
    "\n",
    "\n",
    "summary(agent.policy_net)"
   ]
  },
  {
   "cell_type": "code",
   "execution_count": null,
   "id": "a467650b-e26d-4c10-b0de-858031054691",
   "metadata": {},
   "outputs": [],
   "source": [
    "for episode in tqdm(range(1, episodes + 1), desc=\"Episode: \", position=0):\n",
    "    screen, info = env.reset()\n",
    "    episode_score = 0\n",
    "\n",
    "    screen = torch.tensor(\n",
    "        rgb2gray(env.crop_screen(screen)), dtype=torch.float32, device=agent.device,\n",
    "    ).unsqueeze(0)\n",
    "    info = torch.tensor(env.info_to_array(info), device=agent.device)\n",
    "\n",
    "    for frame in tqdm(c, desc=\"Frame: \", position=1):\n",
    "        action = agent.get_action(screen, info)\n",
    "        next_screen, reward, done, next_info = env.step(action)\n",
    "\n",
    "        next_screen = torch.tensor(\n",
    "            rgb2gray(env.crop_screen(next_screen)),\n",
    "            dtype=torch.float32,\n",
    "            device=agent.device,\n",
    "        ).unsqueeze(0)\n",
    "        next_info = torch.tensor(env.info_to_array(next_info), device=agent.device)\n",
    "\n",
    "        episode_score += reward\n",
    "        agent.update(screen, info, action, reward, done, next_screen, next_info)\n",
    "\n",
    "        screen = next_screen\n",
    "        info = next_info\n",
    "\n",
    "        if save_every is not None and frame % save_every == 0:\n",
    "            checkpoint_dir_ = checkpoint_dir / f\"{frame}\"\n",
    "            checkpoint_dir_.mkdir(exist_ok=True)\n",
    "            torch.save(\n",
    "                agent.policy_net.state_dict(), checkpoint_dir_ / \"policy_net.pth\",\n",
    "            )\n",
    "            torch.save(\n",
    "                agent.policy_net.state_dict(), latest_dir / \"policy_net.pth\",\n",
    "            )\n",
    "\n",
    "        if done:\n",
    "            losses = agent.loss[env.episode]\n",
    "            agent.scores[env.episode] = episode_score\n",
    "            print(\n",
    "                f\"Episode {episode}: final score={env.game['score']} total rewards={episode_score} mean loss = {torch.mean(torch.tensor(losses)):.4f}\",\n",
    "                flush=True,\n",
    "            )\n",
    "            break"
   ]
  },
  {
   "cell_type": "code",
   "execution_count": null,
   "id": "016747f3-947f-4380-9bcb-90b350279962",
   "metadata": {},
   "outputs": [],
   "source": [
    "torch.save(agent.policy_net.state_dict(), checkpoint_dir / \"policy_net.pth\")\n",
    "torch.save(agent.policy_net.state_dict(), latest_dir / \"policy_net.pth\")"
   ]
  },
  {
   "cell_type": "code",
   "execution_count": null,
   "id": "0d8e3336-be29-4eed-9ffe-be4398fa2d11",
   "metadata": {},
   "outputs": [],
   "source": [
    "episode_durations = agent.durations\n",
    "sns.scatterplot(x=episode_durations.keys(), y=episode_durations.values(), s=10)\n",
    "plt.title(\"Duration per episode\")\n",
    "plt.ylabel(\"Frames\")\n",
    "plt.xlabel(\"Episode\")\n",
    "plt.show()"
   ]
  },
  {
   "cell_type": "code",
   "execution_count": null,
   "id": "61d0f96c-2a17-4d3e-98bc-d1ae2fcd17ac",
   "metadata": {},
   "outputs": [],
   "source": [
    "episodes_scores = agent.scores\n",
    "sns.scatterplot(\n",
    "    x=np.arange(1, len(episodes_scores) + 1), y=list(episodes_scores.values()), s=10\n",
    ")\n",
    "plt.title(\"Score per episode\")\n",
    "plt.ylabel(\"score\")\n",
    "plt.xlabel(\"Episode\")\n",
    "plt.show()"
   ]
  },
  {
   "cell_type": "code",
   "execution_count": null,
   "id": "5fdbc054-b31a-4ad4-a20a-002230b1a5fd",
   "metadata": {},
   "outputs": [],
   "source": [
    "df = pd.DataFrame(agent.actions).T\n",
    "df.rename(columns=lambda x: ACTIONS[x][0], inplace=True)\n",
    "df = df.div(df.sum(axis=1), axis=0)"
   ]
  },
  {
   "cell_type": "code",
   "execution_count": null,
   "id": "829ed5f3-1e25-4f19-bf0c-aa9bb5aa9cd4",
   "metadata": {},
   "outputs": [],
   "source": [
    "sns.barplot(\n",
    "    data=df.melt(ignore_index=False, value_name=\"prop\", var_name=\"action\")\n",
    "    .reset_index()\n",
    "    .rename(columns={\"index\": \"episode\"}),\n",
    "    x=\"episode\",\n",
    "    y=\"prop\",\n",
    "    hue=\"action\",\n",
    ")"
   ]
  },
  {
   "cell_type": "code",
   "execution_count": null,
   "id": "5f30e97c-5deb-4301-9530-123abd3e0a33",
   "metadata": {},
   "outputs": [],
   "source": []
  },
  {
   "cell_type": "code",
   "execution_count": null,
   "id": "6eb4f518-7b40-44b4-b4f2-51756d9e373f",
   "metadata": {},
   "outputs": [],
   "source": []
  }
 ],
 "metadata": {
  "kernelspec": {
   "display_name": "Python 3 (ipykernel)",
   "language": "python",
   "name": "python3"
  },
  "language_info": {
   "codemirror_mode": {
    "name": "ipython",
    "version": 3
   },
   "file_extension": ".py",
   "mimetype": "text/x-python",
   "name": "python",
   "nbconvert_exporter": "python",
   "pygments_lexer": "ipython3",
   "version": "3.11.3"
  },
  "widgets": {
   "application/vnd.jupyter.widget-state+json": {
    "state": {},
    "version_major": 2,
    "version_minor": 0
   }
  }
 },
 "nbformat": 4,
 "nbformat_minor": 5
}
