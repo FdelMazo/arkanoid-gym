{
 "cells": [
  {
   "cell_type": "code",
   "execution_count": 1,
   "id": "9864bc25-959e-48c5-a87a-5df7e6219067",
   "metadata": {},
   "outputs": [],
   "source": [
    "import operator as ops\n",
    "import pathlib\n",
    "from collections import Counter, defaultdict\n",
    "from itertools import count\n",
    "\n",
    "import numpy as np\n",
    "import pandas as pd\n",
    "import seaborn as sns\n",
    "import torch\n",
    "from matplotlib import pyplot as plt\n",
    "from tqdm.notebook import tqdm\n",
    "\n",
    "from arkanoid import Arkanoid\n",
    "from dqn import DQNAgent\n",
    "from nes_py.wrappers import JoypadSpace\n",
    "from torchinfo import summary\n",
    "\n",
    "ACTIONS = [[\"NOOP\"], [\"left\"], [\"right\"], [\"A\"]]\n",
    "\n",
    "env = JoypadSpace(Arkanoid(False), ACTIONS)"
   ]
  },
  {
   "cell_type": "code",
   "execution_count": 2,
   "id": "68cacb7e-dd26-457d-8687-a0f38f5e3ec2",
   "metadata": {},
   "outputs": [
    {
     "data": {
      "text/plain": [
       "=================================================================\n",
       "Layer (type:depth-idx)                   Param #\n",
       "=================================================================\n",
       "DQN                                      --\n",
       "├─DQN_TAB: 1-1                           --\n",
       "│    └─Sequential: 2-1                   --\n",
       "│    │    └─Linear: 3-1                  17,408\n",
       "│    │    └─ReLU: 3-2                    --\n",
       "│    │    └─Linear: 3-3                  262,400\n",
       "│    │    └─ReLU: 3-4                    --\n",
       "├─DQN_CNN: 1-2                           --\n",
       "│    └─Sequential: 2-2                   --\n",
       "│    │    └─Conv2d: 3-5                  2,080\n",
       "│    │    └─MaxPool2d: 3-6               --\n",
       "│    │    └─GELU: 3-7                    --\n",
       "│    │    └─Conv2d: 3-8                  32,832\n",
       "│    │    └─MaxPool2d: 3-9               --\n",
       "│    │    └─GELU: 3-10                   --\n",
       "│    │    └─Conv2d: 3-11                 36,928\n",
       "│    │    └─MaxPool2d: 3-12              --\n",
       "│    │    └─GELU: 3-13                   --\n",
       "│    │    └─Flatten: 3-14                --\n",
       "│    │    └─Linear: 3-15                 12,320\n",
       "│    │    └─GELU: 3-16                   --\n",
       "├─Linear: 1-3                            528\n",
       "├─Linear: 1-4                            68\n",
       "=================================================================\n",
       "Total params: 364,564\n",
       "Trainable params: 364,564\n",
       "Non-trainable params: 0\n",
       "================================================================="
      ]
     },
     "execution_count": 2,
     "metadata": {},
     "output_type": "execute_result"
    }
   ],
   "source": [
    "checkpoint_dir: pathlib.Path = pathlib.Path(\"checkpoints\")\n",
    "batch_size: int = 32\n",
    "episodes: int = 1200\n",
    "save_every: int = 10_000\n",
    "\n",
    "agent = DQNAgent(env, batch_size=batch_size)\n",
    "\n",
    "checkpoint_dir.mkdir(parents=True, exist_ok=True)\n",
    "latest_dir = checkpoint_dir / \"latest\"\n",
    "latest_dir.mkdir(exist_ok=True)\n",
    "\n",
    "c = count()\n",
    "\n",
    "\n",
    "def rgb2gray(rgb):\n",
    "    return np.dot(rgb[..., :3], [0.2989, 0.5870, 0.1140])\n",
    "\n",
    "\n",
    "summary(agent.policy_net)"
   ]
  },
  {
   "cell_type": "code",
   "execution_count": 3,
   "id": "a467650b-e26d-4c10-b0de-858031054691",
   "metadata": {},
   "outputs": [
    {
     "data": {
      "application/vnd.jupyter.widget-view+json": {
       "model_id": "50e942f5c9604959af80ca28cc9f0ff3",
       "version_major": 2,
       "version_minor": 0
      },
      "text/plain": [
       "Episode:   0%|          | 0/1200 [00:00<?, ?it/s]"
      ]
     },
     "metadata": {},
     "output_type": "display_data"
    },
    {
     "data": {
      "application/vnd.jupyter.widget-view+json": {
       "model_id": "651248a37f9449839f8e0a9c5a8e3d4a",
       "version_major": 2,
       "version_minor": 0
      },
      "text/plain": [
       "Frame: : 0it [00:00, ?it/s]"
      ]
     },
     "metadata": {},
     "output_type": "display_data"
    },
    {
     "name": "stdout",
     "output_type": "stream",
     "text": [
      "Episode 1: final score=430 total rewards=380.0 mean loss = 0.8320\n"
     ]
    },
    {
     "data": {
      "application/vnd.jupyter.widget-view+json": {
       "model_id": "04131feeecab40d6b110b18fde5afe8a",
       "version_major": 2,
       "version_minor": 0
      },
      "text/plain": [
       "Frame: : 0it [00:00, ?it/s]"
      ]
     },
     "metadata": {},
     "output_type": "display_data"
    },
    {
     "name": "stdout",
     "output_type": "stream",
     "text": [
      "Episode 2: final score=160 total rewards=-370.0 mean loss = 0.8823\n"
     ]
    },
    {
     "data": {
      "application/vnd.jupyter.widget-view+json": {
       "model_id": "ff835a22013743ffa000b98df6078917",
       "version_major": 2,
       "version_minor": 0
      },
      "text/plain": [
       "Frame: : 0it [00:00, ?it/s]"
      ]
     },
     "metadata": {},
     "output_type": "display_data"
    },
    {
     "name": "stdout",
     "output_type": "stream",
     "text": [
      "Episode 3: final score=160 total rewards=-100.0 mean loss = 1.1657\n"
     ]
    },
    {
     "data": {
      "application/vnd.jupyter.widget-view+json": {
       "model_id": "2521352d9ece44b887ed9a947d007301",
       "version_major": 2,
       "version_minor": 0
      },
      "text/plain": [
       "Frame: : 0it [00:00, ?it/s]"
      ]
     },
     "metadata": {},
     "output_type": "display_data"
    },
    {
     "name": "stdout",
     "output_type": "stream",
     "text": [
      "Episode 4: final score=160 total rewards=-100.0 mean loss = 0.7769\n"
     ]
    },
    {
     "data": {
      "application/vnd.jupyter.widget-view+json": {
       "model_id": "913db120a72f4c0396b846d9964c82c0",
       "version_major": 2,
       "version_minor": 0
      },
      "text/plain": [
       "Frame: : 0it [00:00, ?it/s]"
      ]
     },
     "metadata": {},
     "output_type": "display_data"
    },
    {
     "name": "stdout",
     "output_type": "stream",
     "text": [
      "Episode 5: final score=160 total rewards=-100.0 mean loss = 0.7545\n"
     ]
    },
    {
     "data": {
      "application/vnd.jupyter.widget-view+json": {
       "model_id": "a143f9ea150e4cbe96dd7133657a0c89",
       "version_major": 2,
       "version_minor": 0
      },
      "text/plain": [
       "Frame: : 0it [00:00, ?it/s]"
      ]
     },
     "metadata": {},
     "output_type": "display_data"
    },
    {
     "name": "stdout",
     "output_type": "stream",
     "text": [
      "Episode 6: final score=350 total rewards=100.0 mean loss = 0.8297\n"
     ]
    },
    {
     "data": {
      "application/vnd.jupyter.widget-view+json": {
       "model_id": "0d0646800f0d44c5b8fddb01446a50ad",
       "version_major": 2,
       "version_minor": 0
      },
      "text/plain": [
       "Frame: : 0it [00:00, ?it/s]"
      ]
     },
     "metadata": {},
     "output_type": "display_data"
    },
    {
     "name": "stdout",
     "output_type": "stream",
     "text": [
      "Episode 7: final score=190 total rewards=-255.0 mean loss = 1.2577\n"
     ]
    },
    {
     "data": {
      "application/vnd.jupyter.widget-view+json": {
       "model_id": "3a84f8c11d004a74a01d8dd84d5905c4",
       "version_major": 2,
       "version_minor": 0
      },
      "text/plain": [
       "Frame: : 0it [00:00, ?it/s]"
      ]
     },
     "metadata": {},
     "output_type": "display_data"
    },
    {
     "name": "stdout",
     "output_type": "stream",
     "text": [
      "Episode 8: final score=240 total rewards=-30.0 mean loss = 1.1555\n"
     ]
    },
    {
     "data": {
      "application/vnd.jupyter.widget-view+json": {
       "model_id": "629a69d3c75f4272a4d808525781589c",
       "version_major": 2,
       "version_minor": 0
      },
      "text/plain": [
       "Frame: : 0it [00:00, ?it/s]"
      ]
     },
     "metadata": {},
     "output_type": "display_data"
    },
    {
     "name": "stdout",
     "output_type": "stream",
     "text": [
      "Episode 9: final score=270 total rewards=-40.0 mean loss = 0.9134\n"
     ]
    },
    {
     "data": {
      "application/vnd.jupyter.widget-view+json": {
       "model_id": "36f39a8a504a4808b52e05a17e8d9274",
       "version_major": 2,
       "version_minor": 0
      },
      "text/plain": [
       "Frame: : 0it [00:00, ?it/s]"
      ]
     },
     "metadata": {},
     "output_type": "display_data"
    },
    {
     "name": "stdout",
     "output_type": "stream",
     "text": [
      "Episode 10: final score=240 total rewards=-110.0 mean loss = 1.0128\n"
     ]
    },
    {
     "data": {
      "application/vnd.jupyter.widget-view+json": {
       "model_id": "84abf6f6da7c4745a2529c1f3afbaa0c",
       "version_major": 2,
       "version_minor": 0
      },
      "text/plain": [
       "Frame: : 0it [00:00, ?it/s]"
      ]
     },
     "metadata": {},
     "output_type": "display_data"
    },
    {
     "name": "stdout",
     "output_type": "stream",
     "text": [
      "Episode 11: final score=160 total rewards=-180.0 mean loss = 1.0838\n"
     ]
    },
    {
     "data": {
      "application/vnd.jupyter.widget-view+json": {
       "model_id": "c11c6fcdeaa74375a0688c46a13e7931",
       "version_major": 2,
       "version_minor": 0
      },
      "text/plain": [
       "Frame: : 0it [00:00, ?it/s]"
      ]
     },
     "metadata": {},
     "output_type": "display_data"
    },
    {
     "name": "stdout",
     "output_type": "stream",
     "text": [
      "Episode 12: final score=160 total rewards=-100.0 mean loss = 0.9575\n"
     ]
    },
    {
     "data": {
      "application/vnd.jupyter.widget-view+json": {
       "model_id": "7806a59847a34fcdbf5a73d572f2c6a8",
       "version_major": 2,
       "version_minor": 0
      },
      "text/plain": [
       "Frame: : 0it [00:00, ?it/s]"
      ]
     },
     "metadata": {},
     "output_type": "display_data"
    },
    {
     "name": "stdout",
     "output_type": "stream",
     "text": [
      "Episode 13: final score=160 total rewards=-100.0 mean loss = 1.1783\n"
     ]
    },
    {
     "data": {
      "application/vnd.jupyter.widget-view+json": {
       "model_id": "a2a742080097429b9b24e4a4c2e98cbc",
       "version_major": 2,
       "version_minor": 0
      },
      "text/plain": [
       "Frame: : 0it [00:00, ?it/s]"
      ]
     },
     "metadata": {},
     "output_type": "display_data"
    },
    {
     "name": "stdout",
     "output_type": "stream",
     "text": [
      "Episode 14: final score=160 total rewards=-100.0 mean loss = 0.8879\n"
     ]
    },
    {
     "data": {
      "application/vnd.jupyter.widget-view+json": {
       "model_id": "4b4a6b73fa394f1889c40f1e91cc9cbd",
       "version_major": 2,
       "version_minor": 0
      },
      "text/plain": [
       "Frame: : 0it [00:00, ?it/s]"
      ]
     },
     "metadata": {},
     "output_type": "display_data"
    },
    {
     "name": "stdout",
     "output_type": "stream",
     "text": [
      "Episode 15: final score=160 total rewards=-100.0 mean loss = 0.8555\n"
     ]
    },
    {
     "data": {
      "application/vnd.jupyter.widget-view+json": {
       "model_id": "fc7fd0a137054ac09a6c3eabe582b9e1",
       "version_major": 2,
       "version_minor": 0
      },
      "text/plain": [
       "Frame: : 0it [00:00, ?it/s]"
      ]
     },
     "metadata": {},
     "output_type": "display_data"
    },
    {
     "name": "stdout",
     "output_type": "stream",
     "text": [
      "Episode 16: final score=160 total rewards=-100.0 mean loss = 0.8651\n"
     ]
    },
    {
     "data": {
      "application/vnd.jupyter.widget-view+json": {
       "model_id": "05eed31152af4b98a704df34d0bc9c01",
       "version_major": 2,
       "version_minor": 0
      },
      "text/plain": [
       "Frame: : 0it [00:00, ?it/s]"
      ]
     },
     "metadata": {},
     "output_type": "display_data"
    },
    {
     "name": "stdout",
     "output_type": "stream",
     "text": [
      "Episode 17: final score=160 total rewards=-100.0 mean loss = 0.9275\n"
     ]
    },
    {
     "data": {
      "application/vnd.jupyter.widget-view+json": {
       "model_id": "afa1a83f1955472eac17ffc96f2de596",
       "version_major": 2,
       "version_minor": 0
      },
      "text/plain": [
       "Frame: : 0it [00:00, ?it/s]"
      ]
     },
     "metadata": {},
     "output_type": "display_data"
    },
    {
     "name": "stdout",
     "output_type": "stream",
     "text": [
      "Episode 18: final score=240 total rewards=-5.0 mean loss = 1.0082\n"
     ]
    },
    {
     "data": {
      "application/vnd.jupyter.widget-view+json": {
       "model_id": "d53dc35597dd4193a0e45ba258673b72",
       "version_major": 2,
       "version_minor": 0
      },
      "text/plain": [
       "Frame: : 0it [00:00, ?it/s]"
      ]
     },
     "metadata": {},
     "output_type": "display_data"
    },
    {
     "name": "stdout",
     "output_type": "stream",
     "text": [
      "Episode 19: final score=240 total rewards=-80.0 mean loss = 0.9770\n"
     ]
    },
    {
     "data": {
      "application/vnd.jupyter.widget-view+json": {
       "model_id": "9a60c623372d49948c58787dd1b92c9c",
       "version_major": 2,
       "version_minor": 0
      },
      "text/plain": [
       "Frame: : 0it [00:00, ?it/s]"
      ]
     },
     "metadata": {},
     "output_type": "display_data"
    },
    {
     "name": "stdout",
     "output_type": "stream",
     "text": [
      "Episode 20: final score=160 total rewards=-180.0 mean loss = 1.2145\n"
     ]
    },
    {
     "data": {
      "application/vnd.jupyter.widget-view+json": {
       "model_id": "e184f2e9b7da45439bf74475356ddd16",
       "version_major": 2,
       "version_minor": 0
      },
      "text/plain": [
       "Frame: : 0it [00:00, ?it/s]"
      ]
     },
     "metadata": {},
     "output_type": "display_data"
    },
    {
     "name": "stdout",
     "output_type": "stream",
     "text": [
      "Episode 21: final score=160 total rewards=-100.0 mean loss = 1.0780\n"
     ]
    },
    {
     "data": {
      "application/vnd.jupyter.widget-view+json": {
       "model_id": "e38abf3a25bc4cb898334d12b401f02f",
       "version_major": 2,
       "version_minor": 0
      },
      "text/plain": [
       "Frame: : 0it [00:00, ?it/s]"
      ]
     },
     "metadata": {},
     "output_type": "display_data"
    },
    {
     "name": "stdout",
     "output_type": "stream",
     "text": [
      "Episode 22: final score=190 total rewards=-60.0 mean loss = 0.9205\n"
     ]
    },
    {
     "data": {
      "application/vnd.jupyter.widget-view+json": {
       "model_id": "cdee3f0b62194cc18c1988bde7e3f73c",
       "version_major": 2,
       "version_minor": 0
      },
      "text/plain": [
       "Frame: : 0it [00:00, ?it/s]"
      ]
     },
     "metadata": {},
     "output_type": "display_data"
    },
    {
     "name": "stdout",
     "output_type": "stream",
     "text": [
      "Episode 23: final score=1350 total rewards=1075.0 mean loss = 1.1154\n"
     ]
    },
    {
     "data": {
      "application/vnd.jupyter.widget-view+json": {
       "model_id": "66598582d986480d96e9af5f9131ac36",
       "version_major": 2,
       "version_minor": 0
      },
      "text/plain": [
       "Frame: : 0it [00:00, ?it/s]"
      ]
     },
     "metadata": {},
     "output_type": "display_data"
    },
    {
     "name": "stdout",
     "output_type": "stream",
     "text": [
      "Episode 24: final score=160 total rewards=-1290.0 mean loss = 2.6713\n"
     ]
    },
    {
     "data": {
      "application/vnd.jupyter.widget-view+json": {
       "model_id": "5e91df5c04644ac894a274a1bb2dd92d",
       "version_major": 2,
       "version_minor": 0
      },
      "text/plain": [
       "Frame: : 0it [00:00, ?it/s]"
      ]
     },
     "metadata": {},
     "output_type": "display_data"
    },
    {
     "name": "stdout",
     "output_type": "stream",
     "text": [
      "Episode 25: final score=240 total rewards=-5.0 mean loss = 3.5428\n"
     ]
    },
    {
     "data": {
      "application/vnd.jupyter.widget-view+json": {
       "model_id": "c6f05954a7304c0dbbe1b56981e08e61",
       "version_major": 2,
       "version_minor": 0
      },
      "text/plain": [
       "Frame: : 0it [00:00, ?it/s]"
      ]
     },
     "metadata": {},
     "output_type": "display_data"
    },
    {
     "name": "stdout",
     "output_type": "stream",
     "text": [
      "Episode 26: final score=240 total rewards=-75.0 mean loss = 1.1723\n"
     ]
    },
    {
     "data": {
      "application/vnd.jupyter.widget-view+json": {
       "model_id": "f511602971ec40b7bb9a013d89b7413c",
       "version_major": 2,
       "version_minor": 0
      },
      "text/plain": [
       "Frame: : 0it [00:00, ?it/s]"
      ]
     },
     "metadata": {},
     "output_type": "display_data"
    },
    {
     "name": "stdout",
     "output_type": "stream",
     "text": [
      "Episode 27: final score=240 total rewards=-75.0 mean loss = 1.1439\n"
     ]
    },
    {
     "data": {
      "application/vnd.jupyter.widget-view+json": {
       "model_id": "d38b3b27429b4fcdbc581c536d8f495f",
       "version_major": 2,
       "version_minor": 0
      },
      "text/plain": [
       "Frame: : 0it [00:00, ?it/s]"
      ]
     },
     "metadata": {},
     "output_type": "display_data"
    },
    {
     "name": "stdout",
     "output_type": "stream",
     "text": [
      "Episode 28: final score=240 total rewards=-75.0 mean loss = 0.9644\n"
     ]
    },
    {
     "data": {
      "application/vnd.jupyter.widget-view+json": {
       "model_id": "cfa4eb0858174e6b9156105eeefc4b9e",
       "version_major": 2,
       "version_minor": 0
      },
      "text/plain": [
       "Frame: : 0it [00:00, ?it/s]"
      ]
     },
     "metadata": {},
     "output_type": "display_data"
    },
    {
     "name": "stdout",
     "output_type": "stream",
     "text": [
      "Episode 29: final score=670 total rewards=395.0 mean loss = 1.0497\n"
     ]
    },
    {
     "data": {
      "application/vnd.jupyter.widget-view+json": {
       "model_id": "c48996b608c047178ab6176cb244a901",
       "version_major": 2,
       "version_minor": 0
      },
      "text/plain": [
       "Frame: : 0it [00:00, ?it/s]"
      ]
     },
     "metadata": {},
     "output_type": "display_data"
    },
    {
     "name": "stdout",
     "output_type": "stream",
     "text": [
      "Episode 30: final score=240 total rewards=-505.0 mean loss = 1.7294\n"
     ]
    },
    {
     "data": {
      "application/vnd.jupyter.widget-view+json": {
       "model_id": "4529078c57864bf18062ab655ebb00ed",
       "version_major": 2,
       "version_minor": 0
      },
      "text/plain": [
       "Frame: : 0it [00:00, ?it/s]"
      ]
     },
     "metadata": {},
     "output_type": "display_data"
    },
    {
     "name": "stdout",
     "output_type": "stream",
     "text": [
      "Episode 31: final score=160 total rewards=-180.0 mean loss = 1.8299\n"
     ]
    },
    {
     "data": {
      "application/vnd.jupyter.widget-view+json": {
       "model_id": "4032829f4b9646b49c4cda26d8a94322",
       "version_major": 2,
       "version_minor": 0
      },
      "text/plain": [
       "Frame: : 0it [00:00, ?it/s]"
      ]
     },
     "metadata": {},
     "output_type": "display_data"
    },
    {
     "name": "stdout",
     "output_type": "stream",
     "text": [
      "Episode 32: final score=160 total rewards=-100.0 mean loss = 1.0195\n"
     ]
    },
    {
     "data": {
      "application/vnd.jupyter.widget-view+json": {
       "model_id": "51d3b03f1ec749ed8e23b92a4d32457b",
       "version_major": 2,
       "version_minor": 0
      },
      "text/plain": [
       "Frame: : 0it [00:00, ?it/s]"
      ]
     },
     "metadata": {},
     "output_type": "display_data"
    },
    {
     "name": "stdout",
     "output_type": "stream",
     "text": [
      "Episode 33: final score=160 total rewards=-90.0 mean loss = 0.8698\n"
     ]
    },
    {
     "data": {
      "application/vnd.jupyter.widget-view+json": {
       "model_id": "4a97716acb7f4502bc7d05653400d723",
       "version_major": 2,
       "version_minor": 0
      },
      "text/plain": [
       "Frame: : 0it [00:00, ?it/s]"
      ]
     },
     "metadata": {},
     "output_type": "display_data"
    },
    {
     "name": "stdout",
     "output_type": "stream",
     "text": [
      "Episode 34: final score=190 total rewards=-65.0 mean loss = 0.9942\n"
     ]
    },
    {
     "data": {
      "application/vnd.jupyter.widget-view+json": {
       "model_id": "6319cddd61ca4193a1204da2a16955e2",
       "version_major": 2,
       "version_minor": 0
      },
      "text/plain": [
       "Frame: : 0it [00:00, ?it/s]"
      ]
     },
     "metadata": {},
     "output_type": "display_data"
    },
    {
     "name": "stdout",
     "output_type": "stream",
     "text": [
      "Episode 35: final score=160 total rewards=-130.0 mean loss = 1.0693\n"
     ]
    },
    {
     "data": {
      "application/vnd.jupyter.widget-view+json": {
       "model_id": "dc174b30748e4d8a9b3e26f29dbc8d3d",
       "version_major": 2,
       "version_minor": 0
      },
      "text/plain": [
       "Frame: : 0it [00:00, ?it/s]"
      ]
     },
     "metadata": {},
     "output_type": "display_data"
    },
    {
     "name": "stdout",
     "output_type": "stream",
     "text": [
      "Episode 36: final score=160 total rewards=-100.0 mean loss = 0.9598\n"
     ]
    },
    {
     "data": {
      "application/vnd.jupyter.widget-view+json": {
       "model_id": "fd7210b39b05496aa5029aa4b02e997a",
       "version_major": 2,
       "version_minor": 0
      },
      "text/plain": [
       "Frame: : 0it [00:00, ?it/s]"
      ]
     },
     "metadata": {},
     "output_type": "display_data"
    },
    {
     "name": "stdout",
     "output_type": "stream",
     "text": [
      "Episode 37: final score=190 total rewards=-70.0 mean loss = 0.9245\n"
     ]
    },
    {
     "data": {
      "application/vnd.jupyter.widget-view+json": {
       "model_id": "6712c9f69e68437bb4ad4759a3af4a09",
       "version_major": 2,
       "version_minor": 0
      },
      "text/plain": [
       "Frame: : 0it [00:00, ?it/s]"
      ]
     },
     "metadata": {},
     "output_type": "display_data"
    },
    {
     "name": "stdout",
     "output_type": "stream",
     "text": [
      "Episode 38: final score=160 total rewards=-130.0 mean loss = 1.0195\n"
     ]
    },
    {
     "data": {
      "application/vnd.jupyter.widget-view+json": {
       "model_id": "11e7b53d5ae341b9b6441c6808bca719",
       "version_major": 2,
       "version_minor": 0
      },
      "text/plain": [
       "Frame: : 0it [00:00, ?it/s]"
      ]
     },
     "metadata": {},
     "output_type": "display_data"
    },
    {
     "name": "stdout",
     "output_type": "stream",
     "text": [
      "Episode 39: final score=160 total rewards=-95.0 mean loss = 0.8705\n"
     ]
    },
    {
     "data": {
      "application/vnd.jupyter.widget-view+json": {
       "model_id": "8fce9ebb1e384c3596c7e12e6162d5bb",
       "version_major": 2,
       "version_minor": 0
      },
      "text/plain": [
       "Frame: : 0it [00:00, ?it/s]"
      ]
     },
     "metadata": {},
     "output_type": "display_data"
    },
    {
     "name": "stdout",
     "output_type": "stream",
     "text": [
      "Episode 40: final score=240 total rewards=5.0 mean loss = 0.8809\n"
     ]
    },
    {
     "data": {
      "application/vnd.jupyter.widget-view+json": {
       "model_id": "d7c510d39ce64b598e1d883a3d01f759",
       "version_major": 2,
       "version_minor": 0
      },
      "text/plain": [
       "Frame: : 0it [00:00, ?it/s]"
      ]
     },
     "metadata": {},
     "output_type": "display_data"
    },
    {
     "name": "stdout",
     "output_type": "stream",
     "text": [
      "Episode 41: final score=240 total rewards=-85.0 mean loss = 0.8303\n"
     ]
    },
    {
     "data": {
      "application/vnd.jupyter.widget-view+json": {
       "model_id": "f31ba95028834ebe94828bc6a6f1e0e4",
       "version_major": 2,
       "version_minor": 0
      },
      "text/plain": [
       "Frame: : 0it [00:00, ?it/s]"
      ]
     },
     "metadata": {},
     "output_type": "display_data"
    },
    {
     "name": "stdout",
     "output_type": "stream",
     "text": [
      "Episode 42: final score=240 total rewards=-70.0 mean loss = 0.9932\n"
     ]
    },
    {
     "data": {
      "application/vnd.jupyter.widget-view+json": {
       "model_id": "5a40049b9c0448c7b0f20bd82e33f7a8",
       "version_major": 2,
       "version_minor": 0
      },
      "text/plain": [
       "Frame: : 0it [00:00, ?it/s]"
      ]
     },
     "metadata": {},
     "output_type": "display_data"
    },
    {
     "name": "stdout",
     "output_type": "stream",
     "text": [
      "Episode 43: final score=270 total rewards=-40.0 mean loss = 0.8683\n"
     ]
    },
    {
     "data": {
      "application/vnd.jupyter.widget-view+json": {
       "model_id": "c7e306c4f212475e9d0260b90830acbd",
       "version_major": 2,
       "version_minor": 0
      },
      "text/plain": [
       "Frame: : 0it [00:00, ?it/s]"
      ]
     },
     "metadata": {},
     "output_type": "display_data"
    },
    {
     "name": "stdout",
     "output_type": "stream",
     "text": [
      "Episode 44: final score=240 total rewards=-105.0 mean loss = 1.1698\n"
     ]
    },
    {
     "data": {
      "application/vnd.jupyter.widget-view+json": {
       "model_id": "c578afa271c5456b8e51cc05c5d909ce",
       "version_major": 2,
       "version_minor": 0
      },
      "text/plain": [
       "Frame: : 0it [00:00, ?it/s]"
      ]
     },
     "metadata": {},
     "output_type": "display_data"
    },
    {
     "name": "stdout",
     "output_type": "stream",
     "text": [
      "Episode 45: final score=350 total rewards=30.0 mean loss = 1.0955\n"
     ]
    },
    {
     "data": {
      "application/vnd.jupyter.widget-view+json": {
       "model_id": "ec63a5032aca471c9be0ad3cf1d5759d",
       "version_major": 2,
       "version_minor": 0
      },
      "text/plain": [
       "Frame: : 0it [00:00, ?it/s]"
      ]
     },
     "metadata": {},
     "output_type": "display_data"
    },
    {
     "name": "stdout",
     "output_type": "stream",
     "text": [
      "Episode 46: final score=240 total rewards=-180.0 mean loss = 1.1932\n"
     ]
    },
    {
     "data": {
      "application/vnd.jupyter.widget-view+json": {
       "model_id": "261c89c4541748209b6e1d7bffcb9361",
       "version_major": 2,
       "version_minor": 0
      },
      "text/plain": [
       "Frame: : 0it [00:00, ?it/s]"
      ]
     },
     "metadata": {},
     "output_type": "display_data"
    },
    {
     "name": "stdout",
     "output_type": "stream",
     "text": [
      "Episode 47: final score=240 total rewards=-80.0 mean loss = 1.0994\n"
     ]
    },
    {
     "data": {
      "application/vnd.jupyter.widget-view+json": {
       "model_id": "602cedac9fe141698d5e69bb1647e709",
       "version_major": 2,
       "version_minor": 0
      },
      "text/plain": [
       "Frame: : 0it [00:00, ?it/s]"
      ]
     },
     "metadata": {},
     "output_type": "display_data"
    },
    {
     "name": "stdout",
     "output_type": "stream",
     "text": [
      "Episode 48: final score=240 total rewards=-85.0 mean loss = 1.1600\n"
     ]
    },
    {
     "data": {
      "application/vnd.jupyter.widget-view+json": {
       "model_id": "410a64e34cc44eb4a282f85a870308ee",
       "version_major": 2,
       "version_minor": 0
      },
      "text/plain": [
       "Frame: : 0it [00:00, ?it/s]"
      ]
     },
     "metadata": {},
     "output_type": "display_data"
    },
    {
     "name": "stdout",
     "output_type": "stream",
     "text": [
      "Episode 49: final score=270 total rewards=-40.0 mean loss = 1.0249\n"
     ]
    },
    {
     "data": {
      "application/vnd.jupyter.widget-view+json": {
       "model_id": "a9679ece39394ee68e80e130f789996c",
       "version_major": 2,
       "version_minor": 0
      },
      "text/plain": [
       "Frame: : 0it [00:00, ?it/s]"
      ]
     },
     "metadata": {},
     "output_type": "display_data"
    },
    {
     "name": "stdout",
     "output_type": "stream",
     "text": [
      "Episode 50: final score=240 total rewards=-105.0 mean loss = 1.0142\n"
     ]
    },
    {
     "data": {
      "application/vnd.jupyter.widget-view+json": {
       "model_id": "e5426489b986452caef35b030bb98e88",
       "version_major": 2,
       "version_minor": 0
      },
      "text/plain": [
       "Frame: : 0it [00:00, ?it/s]"
      ]
     },
     "metadata": {},
     "output_type": "display_data"
    },
    {
     "name": "stdout",
     "output_type": "stream",
     "text": [
      "Episode 51: final score=190 total rewards=-140.0 mean loss = 1.1256\n"
     ]
    },
    {
     "data": {
      "application/vnd.jupyter.widget-view+json": {
       "model_id": "d9248420167348a6bf2f82fc89d5065b",
       "version_major": 2,
       "version_minor": 0
      },
      "text/plain": [
       "Frame: : 0it [00:00, ?it/s]"
      ]
     },
     "metadata": {},
     "output_type": "display_data"
    },
    {
     "name": "stdout",
     "output_type": "stream",
     "text": [
      "Episode 52: final score=160 total rewards=-130.0 mean loss = 1.0099\n"
     ]
    },
    {
     "data": {
      "application/vnd.jupyter.widget-view+json": {
       "model_id": "8eec4e85bf0a4901aace9f62b81ae1c1",
       "version_major": 2,
       "version_minor": 0
      },
      "text/plain": [
       "Frame: : 0it [00:00, ?it/s]"
      ]
     },
     "metadata": {},
     "output_type": "display_data"
    },
    {
     "name": "stdout",
     "output_type": "stream",
     "text": [
      "Episode 53: final score=190 total rewards=-70.0 mean loss = 1.0223\n"
     ]
    },
    {
     "data": {
      "application/vnd.jupyter.widget-view+json": {
       "model_id": "d3c27add289c4a08ab558eb208c89a18",
       "version_major": 2,
       "version_minor": 0
      },
      "text/plain": [
       "Frame: : 0it [00:00, ?it/s]"
      ]
     },
     "metadata": {},
     "output_type": "display_data"
    },
    {
     "name": "stdout",
     "output_type": "stream",
     "text": [
      "Episode 54: final score=160 total rewards=-130.0 mean loss = 0.9092\n"
     ]
    },
    {
     "data": {
      "application/vnd.jupyter.widget-view+json": {
       "model_id": "642363f0ee404bf89ec086371b856669",
       "version_major": 2,
       "version_minor": 0
      },
      "text/plain": [
       "Frame: : 0it [00:00, ?it/s]"
      ]
     },
     "metadata": {},
     "output_type": "display_data"
    },
    {
     "name": "stdout",
     "output_type": "stream",
     "text": [
      "Episode 55: final score=160 total rewards=-100.0 mean loss = 0.9101\n"
     ]
    },
    {
     "data": {
      "application/vnd.jupyter.widget-view+json": {
       "model_id": "9c1bd5e86c5a43b6b47dd058da9a65a1",
       "version_major": 2,
       "version_minor": 0
      },
      "text/plain": [
       "Frame: : 0it [00:00, ?it/s]"
      ]
     },
     "metadata": {},
     "output_type": "display_data"
    },
    {
     "name": "stdout",
     "output_type": "stream",
     "text": [
      "Episode 56: final score=160 total rewards=-90.0 mean loss = 0.6746\n"
     ]
    },
    {
     "data": {
      "application/vnd.jupyter.widget-view+json": {
       "model_id": "b270fadf5b864bb7b4cc56bbd556a282",
       "version_major": 2,
       "version_minor": 0
      },
      "text/plain": [
       "Frame: : 0it [00:00, ?it/s]"
      ]
     },
     "metadata": {},
     "output_type": "display_data"
    },
    {
     "name": "stdout",
     "output_type": "stream",
     "text": [
      "Episode 57: final score=160 total rewards=-100.0 mean loss = 0.9381\n"
     ]
    },
    {
     "data": {
      "application/vnd.jupyter.widget-view+json": {
       "model_id": "f8babab4aff644379e0e8a341bf605a8",
       "version_major": 2,
       "version_minor": 0
      },
      "text/plain": [
       "Frame: : 0it [00:00, ?it/s]"
      ]
     },
     "metadata": {},
     "output_type": "display_data"
    },
    {
     "name": "stdout",
     "output_type": "stream",
     "text": [
      "Episode 58: final score=240 total rewards=0.0 mean loss = 0.8734\n"
     ]
    },
    {
     "data": {
      "application/vnd.jupyter.widget-view+json": {
       "model_id": "82618ea3886a4f5583428e44b4cdbfd9",
       "version_major": 2,
       "version_minor": 0
      },
      "text/plain": [
       "Frame: : 0it [00:00, ?it/s]"
      ]
     },
     "metadata": {},
     "output_type": "display_data"
    },
    {
     "name": "stdout",
     "output_type": "stream",
     "text": [
      "Episode 59: final score=160 total rewards=-170.0 mean loss = 1.0290\n"
     ]
    },
    {
     "data": {
      "application/vnd.jupyter.widget-view+json": {
       "model_id": "ce1a02f518384841a358bf13f0c85c9e",
       "version_major": 2,
       "version_minor": 0
      },
      "text/plain": [
       "Frame: : 0it [00:00, ?it/s]"
      ]
     },
     "metadata": {},
     "output_type": "display_data"
    },
    {
     "name": "stdout",
     "output_type": "stream",
     "text": [
      "Episode 60: final score=160 total rewards=-100.0 mean loss = 0.9719\n"
     ]
    },
    {
     "data": {
      "application/vnd.jupyter.widget-view+json": {
       "model_id": "f785fbb2be2349289a6552ba2ed10951",
       "version_major": 2,
       "version_minor": 0
      },
      "text/plain": [
       "Frame: : 0it [00:00, ?it/s]"
      ]
     },
     "metadata": {},
     "output_type": "display_data"
    },
    {
     "name": "stdout",
     "output_type": "stream",
     "text": [
      "Episode 61: final score=240 total rewards=-20.0 mean loss = 0.9927\n"
     ]
    },
    {
     "data": {
      "application/vnd.jupyter.widget-view+json": {
       "model_id": "b0f2ab0e8a8a493a8e29222cd67042cd",
       "version_major": 2,
       "version_minor": 0
      },
      "text/plain": [
       "Frame: : 0it [00:00, ?it/s]"
      ]
     },
     "metadata": {},
     "output_type": "display_data"
    },
    {
     "name": "stdout",
     "output_type": "stream",
     "text": [
      "Episode 62: final score=240 total rewards=-75.0 mean loss = 1.1167\n"
     ]
    },
    {
     "data": {
      "application/vnd.jupyter.widget-view+json": {
       "model_id": "70dd7d3dee62436099e78558fc44571f",
       "version_major": 2,
       "version_minor": 0
      },
      "text/plain": [
       "Frame: : 0it [00:00, ?it/s]"
      ]
     },
     "metadata": {},
     "output_type": "display_data"
    },
    {
     "name": "stdout",
     "output_type": "stream",
     "text": [
      "Episode 63: final score=240 total rewards=-70.0 mean loss = 1.0790\n"
     ]
    },
    {
     "data": {
      "application/vnd.jupyter.widget-view+json": {
       "model_id": "7a2efe4a567c4b1caf74a3a1fb7f95ae",
       "version_major": 2,
       "version_minor": 0
      },
      "text/plain": [
       "Frame: : 0it [00:00, ?it/s]"
      ]
     },
     "metadata": {},
     "output_type": "display_data"
    },
    {
     "name": "stdout",
     "output_type": "stream",
     "text": [
      "Episode 64: final score=240 total rewards=-75.0 mean loss = 1.1786\n"
     ]
    },
    {
     "data": {
      "application/vnd.jupyter.widget-view+json": {
       "model_id": "4b578296e8cc436ca73cdd7548f6116b",
       "version_major": 2,
       "version_minor": 0
      },
      "text/plain": [
       "Frame: : 0it [00:00, ?it/s]"
      ]
     },
     "metadata": {},
     "output_type": "display_data"
    },
    {
     "name": "stdout",
     "output_type": "stream",
     "text": [
      "Episode 65: final score=240 total rewards=-70.0 mean loss = 0.9759\n"
     ]
    },
    {
     "data": {
      "application/vnd.jupyter.widget-view+json": {
       "model_id": "96c414cd62ed4f78ab54eb16e9378aa6",
       "version_major": 2,
       "version_minor": 0
      },
      "text/plain": [
       "Frame: : 0it [00:00, ?it/s]"
      ]
     },
     "metadata": {},
     "output_type": "display_data"
    },
    {
     "name": "stdout",
     "output_type": "stream",
     "text": [
      "Episode 66: final score=240 total rewards=-70.0 mean loss = 0.8687\n"
     ]
    },
    {
     "data": {
      "application/vnd.jupyter.widget-view+json": {
       "model_id": "eda9029e4a0444869073f6968a7bfa05",
       "version_major": 2,
       "version_minor": 0
      },
      "text/plain": [
       "Frame: : 0it [00:00, ?it/s]"
      ]
     },
     "metadata": {},
     "output_type": "display_data"
    },
    {
     "name": "stdout",
     "output_type": "stream",
     "text": [
      "Episode 67: final score=430 total rewards=130.0 mean loss = 1.1230\n"
     ]
    },
    {
     "data": {
      "application/vnd.jupyter.widget-view+json": {
       "model_id": "f00498d9d7044a6eb169528dd333f6d1",
       "version_major": 2,
       "version_minor": 0
      },
      "text/plain": [
       "Frame: : 0it [00:00, ?it/s]"
      ]
     },
     "metadata": {},
     "output_type": "display_data"
    },
    {
     "name": "stdout",
     "output_type": "stream",
     "text": [
      "Episode 68: final score=240 total rewards=-265.0 mean loss = 0.9942\n"
     ]
    },
    {
     "data": {
      "application/vnd.jupyter.widget-view+json": {
       "model_id": "31ea890ed5af4544a063f78ed2c4143b",
       "version_major": 2,
       "version_minor": 0
      },
      "text/plain": [
       "Frame: : 0it [00:00, ?it/s]"
      ]
     },
     "metadata": {},
     "output_type": "display_data"
    },
    {
     "name": "stdout",
     "output_type": "stream",
     "text": [
      "Episode 69: final score=670 total rewards=395.0 mean loss = 1.2415\n"
     ]
    },
    {
     "data": {
      "application/vnd.jupyter.widget-view+json": {
       "model_id": "f91fc57c7bdb4f4bac696b07adb17ab9",
       "version_major": 2,
       "version_minor": 0
      },
      "text/plain": [
       "Frame: : 0it [00:00, ?it/s]"
      ]
     },
     "metadata": {},
     "output_type": "display_data"
    },
    {
     "name": "stdout",
     "output_type": "stream",
     "text": [
      "Episode 70: final score=160 total rewards=-600.0 mean loss = 1.5599\n"
     ]
    },
    {
     "data": {
      "application/vnd.jupyter.widget-view+json": {
       "model_id": "cfac2b70cdef4d6e84ac159ad0e6687e",
       "version_major": 2,
       "version_minor": 0
      },
      "text/plain": [
       "Frame: : 0it [00:00, ?it/s]"
      ]
     },
     "metadata": {},
     "output_type": "display_data"
    },
    {
     "name": "stdout",
     "output_type": "stream",
     "text": [
      "Episode 71: final score=160 total rewards=-100.0 mean loss = 1.5854\n"
     ]
    },
    {
     "data": {
      "application/vnd.jupyter.widget-view+json": {
       "model_id": "f699a6f6cdeb49ec83549d942c38179b",
       "version_major": 2,
       "version_minor": 0
      },
      "text/plain": [
       "Frame: : 0it [00:00, ?it/s]"
      ]
     },
     "metadata": {},
     "output_type": "display_data"
    },
    {
     "name": "stdout",
     "output_type": "stream",
     "text": [
      "Episode 72: final score=160 total rewards=-100.0 mean loss = 1.0784\n"
     ]
    },
    {
     "data": {
      "application/vnd.jupyter.widget-view+json": {
       "model_id": "0f11e4b25e234b9d983a4f570a56ecf7",
       "version_major": 2,
       "version_minor": 0
      },
      "text/plain": [
       "Frame: : 0it [00:00, ?it/s]"
      ]
     },
     "metadata": {},
     "output_type": "display_data"
    },
    {
     "name": "stdout",
     "output_type": "stream",
     "text": [
      "Episode 73: final score=160 total rewards=-100.0 mean loss = 0.8746\n"
     ]
    },
    {
     "data": {
      "application/vnd.jupyter.widget-view+json": {
       "model_id": "ec0c5a851a4e464db94b6178bb87e8c6",
       "version_major": 2,
       "version_minor": 0
      },
      "text/plain": [
       "Frame: : 0it [00:00, ?it/s]"
      ]
     },
     "metadata": {},
     "output_type": "display_data"
    },
    {
     "name": "stdout",
     "output_type": "stream",
     "text": [
      "Episode 74: final score=160 total rewards=-100.0 mean loss = 0.8415\n"
     ]
    },
    {
     "data": {
      "application/vnd.jupyter.widget-view+json": {
       "model_id": "ba1f6f35ffe648a6b83bd7f998e27eba",
       "version_major": 2,
       "version_minor": 0
      },
      "text/plain": [
       "Frame: : 0it [00:00, ?it/s]"
      ]
     },
     "metadata": {},
     "output_type": "display_data"
    },
    {
     "name": "stdout",
     "output_type": "stream",
     "text": [
      "Episode 75: final score=160 total rewards=-100.0 mean loss = 0.8247\n"
     ]
    },
    {
     "data": {
      "application/vnd.jupyter.widget-view+json": {
       "model_id": "361153ab715843e08149e4282bce34cf",
       "version_major": 2,
       "version_minor": 0
      },
      "text/plain": [
       "Frame: : 0it [00:00, ?it/s]"
      ]
     },
     "metadata": {},
     "output_type": "display_data"
    },
    {
     "name": "stdout",
     "output_type": "stream",
     "text": [
      "Episode 76: final score=240 total rewards=5.0 mean loss = 0.9591\n"
     ]
    },
    {
     "data": {
      "application/vnd.jupyter.widget-view+json": {
       "model_id": "058ee95fcec14026bdf4bd7d69b723a5",
       "version_major": 2,
       "version_minor": 0
      },
      "text/plain": [
       "Frame: : 0it [00:00, ?it/s]"
      ]
     },
     "metadata": {},
     "output_type": "display_data"
    },
    {
     "name": "stdout",
     "output_type": "stream",
     "text": [
      "Episode 77: final score=670 total rewards=390.0 mean loss = 0.8450\n"
     ]
    },
    {
     "data": {
      "application/vnd.jupyter.widget-view+json": {
       "model_id": "361b2268bea44eb7a361bf8086897930",
       "version_major": 2,
       "version_minor": 0
      },
      "text/plain": [
       "Frame: : 0it [00:00, ?it/s]"
      ]
     },
     "metadata": {},
     "output_type": "display_data"
    },
    {
     "name": "stdout",
     "output_type": "stream",
     "text": [
      "Episode 78: final score=240 total rewards=-505.0 mean loss = 1.9145\n"
     ]
    },
    {
     "data": {
      "application/vnd.jupyter.widget-view+json": {
       "model_id": "5b734a249711453d8aaf62fb34108b23",
       "version_major": 2,
       "version_minor": 0
      },
      "text/plain": [
       "Frame: : 0it [00:00, ?it/s]"
      ]
     },
     "metadata": {},
     "output_type": "display_data"
    },
    {
     "name": "stdout",
     "output_type": "stream",
     "text": [
      "Episode 79: final score=240 total rewards=-70.0 mean loss = 1.7723\n"
     ]
    },
    {
     "data": {
      "application/vnd.jupyter.widget-view+json": {
       "model_id": "b62bd8ad9b764de2868a4090b18907d0",
       "version_major": 2,
       "version_minor": 0
      },
      "text/plain": [
       "Frame: : 0it [00:00, ?it/s]"
      ]
     },
     "metadata": {},
     "output_type": "display_data"
    },
    {
     "name": "stdout",
     "output_type": "stream",
     "text": [
      "Episode 80: final score=670 total rewards=385.0 mean loss = 1.0916\n"
     ]
    },
    {
     "data": {
      "application/vnd.jupyter.widget-view+json": {
       "model_id": "09762dadf7cf446c9e5da4431a890664",
       "version_major": 2,
       "version_minor": 0
      },
      "text/plain": [
       "Frame: : 0it [00:00, ?it/s]"
      ]
     },
     "metadata": {},
     "output_type": "display_data"
    },
    {
     "name": "stdout",
     "output_type": "stream",
     "text": [
      "Episode 81: final score=240 total rewards=-500.0 mean loss = 1.4549\n"
     ]
    },
    {
     "data": {
      "application/vnd.jupyter.widget-view+json": {
       "model_id": "78b0fca827de4cf7a66013c4e06f27c4",
       "version_major": 2,
       "version_minor": 0
      },
      "text/plain": [
       "Frame: : 0it [00:00, ?it/s]"
      ]
     },
     "metadata": {},
     "output_type": "display_data"
    },
    {
     "name": "stdout",
     "output_type": "stream",
     "text": [
      "Episode 82: final score=160 total rewards=-180.0 mean loss = 1.7298\n"
     ]
    },
    {
     "data": {
      "application/vnd.jupyter.widget-view+json": {
       "model_id": "40fd6563aac94335aa487045cc57664b",
       "version_major": 2,
       "version_minor": 0
      },
      "text/plain": [
       "Frame: : 0it [00:00, ?it/s]"
      ]
     },
     "metadata": {},
     "output_type": "display_data"
    },
    {
     "name": "stdout",
     "output_type": "stream",
     "text": [
      "Episode 83: final score=160 total rewards=-100.0 mean loss = 0.9603\n"
     ]
    },
    {
     "data": {
      "application/vnd.jupyter.widget-view+json": {
       "model_id": "1f9e6f1627a74b12a32c9e35453c7b53",
       "version_major": 2,
       "version_minor": 0
      },
      "text/plain": [
       "Frame: : 0it [00:00, ?it/s]"
      ]
     },
     "metadata": {},
     "output_type": "display_data"
    },
    {
     "name": "stdout",
     "output_type": "stream",
     "text": [
      "Episode 84: final score=160 total rewards=-90.0 mean loss = 0.8860\n"
     ]
    },
    {
     "data": {
      "application/vnd.jupyter.widget-view+json": {
       "model_id": "46dbe31697e14304ac689d216f708ea0",
       "version_major": 2,
       "version_minor": 0
      },
      "text/plain": [
       "Frame: : 0it [00:00, ?it/s]"
      ]
     },
     "metadata": {},
     "output_type": "display_data"
    },
    {
     "name": "stdout",
     "output_type": "stream",
     "text": [
      "Episode 85: final score=160 total rewards=-95.0 mean loss = 0.8176\n"
     ]
    },
    {
     "data": {
      "application/vnd.jupyter.widget-view+json": {
       "model_id": "9de6638248dc4023915319142dfef441",
       "version_major": 2,
       "version_minor": 0
      },
      "text/plain": [
       "Frame: : 0it [00:00, ?it/s]"
      ]
     },
     "metadata": {},
     "output_type": "display_data"
    },
    {
     "name": "stdout",
     "output_type": "stream",
     "text": [
      "Episode 86: final score=160 total rewards=-100.0 mean loss = 0.6688\n"
     ]
    },
    {
     "data": {
      "application/vnd.jupyter.widget-view+json": {
       "model_id": "1fb9101eb0864803b89e7103496a4ee2",
       "version_major": 2,
       "version_minor": 0
      },
      "text/plain": [
       "Frame: : 0it [00:00, ?it/s]"
      ]
     },
     "metadata": {},
     "output_type": "display_data"
    },
    {
     "name": "stdout",
     "output_type": "stream",
     "text": [
      "Episode 87: final score=190 total rewards=-70.0 mean loss = 0.8889\n"
     ]
    },
    {
     "data": {
      "application/vnd.jupyter.widget-view+json": {
       "model_id": "ae8666a8d0f54238bdb8353cc28647dd",
       "version_major": 2,
       "version_minor": 0
      },
      "text/plain": [
       "Frame: : 0it [00:00, ?it/s]"
      ]
     },
     "metadata": {},
     "output_type": "display_data"
    },
    {
     "name": "stdout",
     "output_type": "stream",
     "text": [
      "Episode 88: final score=160 total rewards=-130.0 mean loss = 0.7715\n"
     ]
    },
    {
     "data": {
      "application/vnd.jupyter.widget-view+json": {
       "model_id": "194ae4a1c04348a18deecf6f8b59af19",
       "version_major": 2,
       "version_minor": 0
      },
      "text/plain": [
       "Frame: : 0it [00:00, ?it/s]"
      ]
     },
     "metadata": {},
     "output_type": "display_data"
    },
    {
     "name": "stdout",
     "output_type": "stream",
     "text": [
      "Episode 89: final score=160 total rewards=-95.0 mean loss = 0.8778\n"
     ]
    },
    {
     "data": {
      "application/vnd.jupyter.widget-view+json": {
       "model_id": "9f89985c32494b33b2dc634cca87bd0d",
       "version_major": 2,
       "version_minor": 0
      },
      "text/plain": [
       "Frame: : 0it [00:00, ?it/s]"
      ]
     },
     "metadata": {},
     "output_type": "display_data"
    },
    {
     "name": "stdout",
     "output_type": "stream",
     "text": [
      "Episode 90: final score=160 total rewards=-100.0 mean loss = 0.8316\n"
     ]
    },
    {
     "data": {
      "application/vnd.jupyter.widget-view+json": {
       "model_id": "32ccc767e5a948bb854d8477c1ac0d01",
       "version_major": 2,
       "version_minor": 0
      },
      "text/plain": [
       "Frame: : 0it [00:00, ?it/s]"
      ]
     },
     "metadata": {},
     "output_type": "display_data"
    },
    {
     "name": "stdout",
     "output_type": "stream",
     "text": [
      "Episode 91: final score=160 total rewards=-100.0 mean loss = 0.8807\n"
     ]
    },
    {
     "data": {
      "application/vnd.jupyter.widget-view+json": {
       "model_id": "96789a498bb14477904673411f61847d",
       "version_major": 2,
       "version_minor": 0
      },
      "text/plain": [
       "Frame: : 0it [00:00, ?it/s]"
      ]
     },
     "metadata": {},
     "output_type": "display_data"
    },
    {
     "name": "stdout",
     "output_type": "stream",
     "text": [
      "Episode 92: final score=160 total rewards=-100.0 mean loss = 0.8176\n"
     ]
    },
    {
     "data": {
      "application/vnd.jupyter.widget-view+json": {
       "model_id": "77736233aa594e34a9f4d8496e2fade9",
       "version_major": 2,
       "version_minor": 0
      },
      "text/plain": [
       "Frame: : 0it [00:00, ?it/s]"
      ]
     },
     "metadata": {},
     "output_type": "display_data"
    },
    {
     "name": "stdout",
     "output_type": "stream",
     "text": [
      "Episode 93: final score=160 total rewards=-100.0 mean loss = 0.7570\n"
     ]
    },
    {
     "data": {
      "application/vnd.jupyter.widget-view+json": {
       "model_id": "5e98996dcc4c4d5ea43acdb0e2f314d4",
       "version_major": 2,
       "version_minor": 0
      },
      "text/plain": [
       "Frame: : 0it [00:00, ?it/s]"
      ]
     },
     "metadata": {},
     "output_type": "display_data"
    },
    {
     "name": "stdout",
     "output_type": "stream",
     "text": [
      "Episode 94: final score=160 total rewards=-100.0 mean loss = 0.6488\n"
     ]
    },
    {
     "data": {
      "application/vnd.jupyter.widget-view+json": {
       "model_id": "6c7ea67b3b5e4b59ab529daf8c09ec68",
       "version_major": 2,
       "version_minor": 0
      },
      "text/plain": [
       "Frame: : 0it [00:00, ?it/s]"
      ]
     },
     "metadata": {},
     "output_type": "display_data"
    },
    {
     "name": "stdout",
     "output_type": "stream",
     "text": [
      "Episode 95: final score=160 total rewards=-100.0 mean loss = 0.7460\n"
     ]
    },
    {
     "data": {
      "application/vnd.jupyter.widget-view+json": {
       "model_id": "28a967f15061446cb1f7fa05d37d7105",
       "version_major": 2,
       "version_minor": 0
      },
      "text/plain": [
       "Frame: : 0it [00:00, ?it/s]"
      ]
     },
     "metadata": {},
     "output_type": "display_data"
    },
    {
     "name": "stdout",
     "output_type": "stream",
     "text": [
      "Episode 96: final score=160 total rewards=-100.0 mean loss = 0.9057\n"
     ]
    },
    {
     "data": {
      "application/vnd.jupyter.widget-view+json": {
       "model_id": "1b37873156554125a79079e21d48f8aa",
       "version_major": 2,
       "version_minor": 0
      },
      "text/plain": [
       "Frame: : 0it [00:00, ?it/s]"
      ]
     },
     "metadata": {},
     "output_type": "display_data"
    },
    {
     "name": "stdout",
     "output_type": "stream",
     "text": [
      "Episode 97: final score=160 total rewards=-100.0 mean loss = 0.8123\n"
     ]
    },
    {
     "data": {
      "application/vnd.jupyter.widget-view+json": {
       "model_id": "548dda024df545ac9466ab74381f7c7f",
       "version_major": 2,
       "version_minor": 0
      },
      "text/plain": [
       "Frame: : 0it [00:00, ?it/s]"
      ]
     },
     "metadata": {},
     "output_type": "display_data"
    },
    {
     "name": "stdout",
     "output_type": "stream",
     "text": [
      "Episode 98: final score=160 total rewards=-100.0 mean loss = 0.8346\n"
     ]
    },
    {
     "data": {
      "application/vnd.jupyter.widget-view+json": {
       "model_id": "dd599c250d834423ba3ddf7092e775fb",
       "version_major": 2,
       "version_minor": 0
      },
      "text/plain": [
       "Frame: : 0it [00:00, ?it/s]"
      ]
     },
     "metadata": {},
     "output_type": "display_data"
    },
    {
     "name": "stdout",
     "output_type": "stream",
     "text": [
      "Episode 99: final score=160 total rewards=-100.0 mean loss = 0.7992\n"
     ]
    },
    {
     "data": {
      "application/vnd.jupyter.widget-view+json": {
       "model_id": "dcfc84fd348948fea234e94da6e7d922",
       "version_major": 2,
       "version_minor": 0
      },
      "text/plain": [
       "Frame: : 0it [00:00, ?it/s]"
      ]
     },
     "metadata": {},
     "output_type": "display_data"
    },
    {
     "name": "stdout",
     "output_type": "stream",
     "text": [
      "Episode 100: final score=160 total rewards=-100.0 mean loss = 0.6372\n"
     ]
    },
    {
     "data": {
      "application/vnd.jupyter.widget-view+json": {
       "model_id": "7ebb6d6df9394242b6a443d87c1c6d06",
       "version_major": 2,
       "version_minor": 0
      },
      "text/plain": [
       "Frame: : 0it [00:00, ?it/s]"
      ]
     },
     "metadata": {},
     "output_type": "display_data"
    },
    {
     "name": "stdout",
     "output_type": "stream",
     "text": [
      "Episode 101: final score=240 total rewards=5.0 mean loss = 0.8939\n"
     ]
    },
    {
     "data": {
      "application/vnd.jupyter.widget-view+json": {
       "model_id": "d95c69764d35400280f862d31de04496",
       "version_major": 2,
       "version_minor": 0
      },
      "text/plain": [
       "Frame: : 0it [00:00, ?it/s]"
      ]
     },
     "metadata": {},
     "output_type": "display_data"
    },
    {
     "name": "stdout",
     "output_type": "stream",
     "text": [
      "Episode 102: final score=240 total rewards=-75.0 mean loss = 0.9272\n"
     ]
    },
    {
     "data": {
      "application/vnd.jupyter.widget-view+json": {
       "model_id": "afee1d8eeb624550b88dd96f338a6568",
       "version_major": 2,
       "version_minor": 0
      },
      "text/plain": [
       "Frame: : 0it [00:00, ?it/s]"
      ]
     },
     "metadata": {},
     "output_type": "display_data"
    },
    {
     "name": "stdout",
     "output_type": "stream",
     "text": [
      "Episode 103: final score=240 total rewards=-85.0 mean loss = 0.9978\n"
     ]
    },
    {
     "data": {
      "application/vnd.jupyter.widget-view+json": {
       "model_id": "339279c35166497eafa59afc9cbedcfb",
       "version_major": 2,
       "version_minor": 0
      },
      "text/plain": [
       "Frame: : 0it [00:00, ?it/s]"
      ]
     },
     "metadata": {},
     "output_type": "display_data"
    },
    {
     "name": "stdout",
     "output_type": "stream",
     "text": [
      "Episode 104: final score=240 total rewards=-75.0 mean loss = 1.1207\n"
     ]
    },
    {
     "data": {
      "application/vnd.jupyter.widget-view+json": {
       "model_id": "4690a27f611548e790c5e5519cb3f012",
       "version_major": 2,
       "version_minor": 0
      },
      "text/plain": [
       "Frame: : 0it [00:00, ?it/s]"
      ]
     },
     "metadata": {},
     "output_type": "display_data"
    },
    {
     "name": "stdout",
     "output_type": "stream",
     "text": [
      "Episode 105: final score=240 total rewards=-75.0 mean loss = 1.0926\n"
     ]
    },
    {
     "data": {
      "application/vnd.jupyter.widget-view+json": {
       "model_id": "2802c23e51f6461bb158670dc65787c7",
       "version_major": 2,
       "version_minor": 0
      },
      "text/plain": [
       "Frame: : 0it [00:00, ?it/s]"
      ]
     },
     "metadata": {},
     "output_type": "display_data"
    },
    {
     "name": "stdout",
     "output_type": "stream",
     "text": [
      "Episode 106: final score=350 total rewards=25.0 mean loss = 1.0925\n"
     ]
    },
    {
     "data": {
      "application/vnd.jupyter.widget-view+json": {
       "model_id": "023e918972604e2991acbd77626a2d55",
       "version_major": 2,
       "version_minor": 0
      },
      "text/plain": [
       "Frame: : 0it [00:00, ?it/s]"
      ]
     },
     "metadata": {},
     "output_type": "display_data"
    },
    {
     "name": "stdout",
     "output_type": "stream",
     "text": [
      "Episode 107: final score=1270 total rewards=835.0 mean loss = 1.4906\n"
     ]
    },
    {
     "data": {
      "application/vnd.jupyter.widget-view+json": {
       "model_id": "90d9eaab66ea4bfb864710ac0c9e64a8",
       "version_major": 2,
       "version_minor": 0
      },
      "text/plain": [
       "Frame: : 0it [00:00, ?it/s]"
      ]
     },
     "metadata": {},
     "output_type": "display_data"
    },
    {
     "name": "stdout",
     "output_type": "stream",
     "text": [
      "Episode 108: final score=240 total rewards=-1115.0 mean loss = 3.3110\n"
     ]
    },
    {
     "data": {
      "application/vnd.jupyter.widget-view+json": {
       "model_id": "15d74132336f4674b96b4b2713b13afc",
       "version_major": 2,
       "version_minor": 0
      },
      "text/plain": [
       "Frame: : 0it [00:00, ?it/s]"
      ]
     },
     "metadata": {},
     "output_type": "display_data"
    },
    {
     "name": "stdout",
     "output_type": "stream",
     "text": [
      "Episode 109: final score=240 total rewards=-85.0 mean loss = 1.8409\n"
     ]
    },
    {
     "data": {
      "application/vnd.jupyter.widget-view+json": {
       "model_id": "ab5b480f8820416abe45cdefa081ec30",
       "version_major": 2,
       "version_minor": 0
      },
      "text/plain": [
       "Frame: : 0it [00:00, ?it/s]"
      ]
     },
     "metadata": {},
     "output_type": "display_data"
    },
    {
     "name": "stdout",
     "output_type": "stream",
     "text": [
      "Episode 110: final score=240 total rewards=-75.0 mean loss = 1.0049\n"
     ]
    },
    {
     "data": {
      "application/vnd.jupyter.widget-view+json": {
       "model_id": "eec8c3531f874affa59621bb04f9d6e0",
       "version_major": 2,
       "version_minor": 0
      },
      "text/plain": [
       "Frame: : 0it [00:00, ?it/s]"
      ]
     },
     "metadata": {},
     "output_type": "display_data"
    },
    {
     "name": "stdout",
     "output_type": "stream",
     "text": [
      "Episode 111: final score=240 total rewards=-85.0 mean loss = 0.9696\n"
     ]
    },
    {
     "data": {
      "application/vnd.jupyter.widget-view+json": {
       "model_id": "2183d64a7f104740b69d6ac746aaddf7",
       "version_major": 2,
       "version_minor": 0
      },
      "text/plain": [
       "Frame: : 0it [00:00, ?it/s]"
      ]
     },
     "metadata": {},
     "output_type": "display_data"
    },
    {
     "name": "stdout",
     "output_type": "stream",
     "text": [
      "Episode 112: final score=160 total rewards=-175.0 mean loss = 0.9947\n"
     ]
    },
    {
     "data": {
      "application/vnd.jupyter.widget-view+json": {
       "model_id": "4637d5c3f08f4715b2642e306e6f214c",
       "version_major": 2,
       "version_minor": 0
      },
      "text/plain": [
       "Frame: : 0it [00:00, ?it/s]"
      ]
     },
     "metadata": {},
     "output_type": "display_data"
    },
    {
     "name": "stdout",
     "output_type": "stream",
     "text": [
      "Episode 113: final score=240 total rewards=0.0 mean loss = 0.9798\n"
     ]
    },
    {
     "data": {
      "application/vnd.jupyter.widget-view+json": {
       "model_id": "9e761b23f6cb4d71a2d33e4ec7f8226b",
       "version_major": 2,
       "version_minor": 0
      },
      "text/plain": [
       "Frame: : 0it [00:00, ?it/s]"
      ]
     },
     "metadata": {},
     "output_type": "display_data"
    },
    {
     "name": "stdout",
     "output_type": "stream",
     "text": [
      "Episode 114: final score=350 total rewards=35.0 mean loss = 1.0514\n"
     ]
    },
    {
     "data": {
      "application/vnd.jupyter.widget-view+json": {
       "model_id": "9ce40e9ce61d4ef594c6c5fa509ebe95",
       "version_major": 2,
       "version_minor": 0
      },
      "text/plain": [
       "Frame: : 0it [00:00, ?it/s]"
      ]
     },
     "metadata": {},
     "output_type": "display_data"
    },
    {
     "name": "stdout",
     "output_type": "stream",
     "text": [
      "Episode 115: final score=240 total rewards=-185.0 mean loss = 1.1534\n"
     ]
    },
    {
     "data": {
      "application/vnd.jupyter.widget-view+json": {
       "model_id": "199977da37414a4cafe75e487b23861c",
       "version_major": 2,
       "version_minor": 0
      },
      "text/plain": [
       "Frame: : 0it [00:00, ?it/s]"
      ]
     },
     "metadata": {},
     "output_type": "display_data"
    },
    {
     "name": "stdout",
     "output_type": "stream",
     "text": [
      "Episode 116: final score=190 total rewards=-145.0 mean loss = 1.1949\n"
     ]
    },
    {
     "data": {
      "application/vnd.jupyter.widget-view+json": {
       "model_id": "8448489c3178460191fbe862c2468f52",
       "version_major": 2,
       "version_minor": 0
      },
      "text/plain": [
       "Frame: : 0it [00:00, ?it/s]"
      ]
     },
     "metadata": {},
     "output_type": "display_data"
    },
    {
     "name": "stdout",
     "output_type": "stream",
     "text": [
      "Episode 117: final score=160 total rewards=-130.0 mean loss = 0.9849\n"
     ]
    },
    {
     "data": {
      "application/vnd.jupyter.widget-view+json": {
       "model_id": "481a5b8b74e84ad1bc16a1123ff84bc9",
       "version_major": 2,
       "version_minor": 0
      },
      "text/plain": [
       "Frame: : 0it [00:00, ?it/s]"
      ]
     },
     "metadata": {},
     "output_type": "display_data"
    },
    {
     "name": "stdout",
     "output_type": "stream",
     "text": [
      "Episode 118: final score=160 total rewards=-100.0 mean loss = 1.0376\n"
     ]
    },
    {
     "data": {
      "application/vnd.jupyter.widget-view+json": {
       "model_id": "40294635f350481baf5121c19d1d5ff6",
       "version_major": 2,
       "version_minor": 0
      },
      "text/plain": [
       "Frame: : 0it [00:00, ?it/s]"
      ]
     },
     "metadata": {},
     "output_type": "display_data"
    },
    {
     "name": "stdout",
     "output_type": "stream",
     "text": [
      "Episode 119: final score=160 total rewards=-90.0 mean loss = 1.0430\n"
     ]
    },
    {
     "data": {
      "application/vnd.jupyter.widget-view+json": {
       "model_id": "703864bc96c848dfb636046411365e39",
       "version_major": 2,
       "version_minor": 0
      },
      "text/plain": [
       "Frame: : 0it [00:00, ?it/s]"
      ]
     },
     "metadata": {},
     "output_type": "display_data"
    },
    {
     "name": "stdout",
     "output_type": "stream",
     "text": [
      "Episode 120: final score=240 total rewards=0.0 mean loss = 1.0019\n"
     ]
    },
    {
     "data": {
      "application/vnd.jupyter.widget-view+json": {
       "model_id": "2a4e608b92374144888a79cc6c88ce6c",
       "version_major": 2,
       "version_minor": 0
      },
      "text/plain": [
       "Frame: : 0it [00:00, ?it/s]"
      ]
     },
     "metadata": {},
     "output_type": "display_data"
    },
    {
     "name": "stdout",
     "output_type": "stream",
     "text": [
      "Episode 121: final score=350 total rewards=40.0 mean loss = 0.9888\n"
     ]
    },
    {
     "data": {
      "application/vnd.jupyter.widget-view+json": {
       "model_id": "32497408f1af4f62b5e5373929096640",
       "version_major": 2,
       "version_minor": 0
      },
      "text/plain": [
       "Frame: : 0it [00:00, ?it/s]"
      ]
     },
     "metadata": {},
     "output_type": "display_data"
    },
    {
     "name": "stdout",
     "output_type": "stream",
     "text": [
      "Episode 122: final score=270 total rewards=-170.0 mean loss = 1.4392\n"
     ]
    },
    {
     "data": {
      "application/vnd.jupyter.widget-view+json": {
       "model_id": "b0955f370f99402ca49cc08ac9f89475",
       "version_major": 2,
       "version_minor": 0
      },
      "text/plain": [
       "Frame: : 0it [00:00, ?it/s]"
      ]
     },
     "metadata": {},
     "output_type": "display_data"
    },
    {
     "name": "stdout",
     "output_type": "stream",
     "text": [
      "Episode 123: final score=240 total rewards=-110.0 mean loss = 1.4637\n"
     ]
    },
    {
     "data": {
      "application/vnd.jupyter.widget-view+json": {
       "model_id": "ee44446f91c04760a0f04d8c325302a8",
       "version_major": 2,
       "version_minor": 0
      },
      "text/plain": [
       "Frame: : 0it [00:00, ?it/s]"
      ]
     },
     "metadata": {},
     "output_type": "display_data"
    },
    {
     "name": "stdout",
     "output_type": "stream",
     "text": [
      "Episode 124: final score=1350 total rewards=1045.0 mean loss = 1.2575\n"
     ]
    },
    {
     "data": {
      "application/vnd.jupyter.widget-view+json": {
       "model_id": "3fc9061e5610407ea55c41c6b6d7e9fc",
       "version_major": 2,
       "version_minor": 0
      },
      "text/plain": [
       "Frame: : 0it [00:00, ?it/s]"
      ]
     },
     "metadata": {},
     "output_type": "display_data"
    },
    {
     "name": "stdout",
     "output_type": "stream",
     "text": [
      "Episode 125: final score=240 total rewards=-1180.0 mean loss = 2.8520\n"
     ]
    },
    {
     "data": {
      "application/vnd.jupyter.widget-view+json": {
       "model_id": "857836d81853470e9725974ddd86216d",
       "version_major": 2,
       "version_minor": 0
      },
      "text/plain": [
       "Frame: : 0it [00:00, ?it/s]"
      ]
     },
     "metadata": {},
     "output_type": "display_data"
    },
    {
     "name": "stdout",
     "output_type": "stream",
     "text": [
      "Episode 126: final score=240 total rewards=-80.0 mean loss = 2.0966\n"
     ]
    },
    {
     "data": {
      "application/vnd.jupyter.widget-view+json": {
       "model_id": "549a62d4506a4ce59e681c37b67240eb",
       "version_major": 2,
       "version_minor": 0
      },
      "text/plain": [
       "Frame: : 0it [00:00, ?it/s]"
      ]
     },
     "metadata": {},
     "output_type": "display_data"
    },
    {
     "name": "stdout",
     "output_type": "stream",
     "text": [
      "Episode 127: final score=240 total rewards=-75.0 mean loss = 1.0751\n"
     ]
    },
    {
     "data": {
      "application/vnd.jupyter.widget-view+json": {
       "model_id": "94f6cf58f83c425590e190c02e07f5c4",
       "version_major": 2,
       "version_minor": 0
      },
      "text/plain": [
       "Frame: : 0it [00:00, ?it/s]"
      ]
     },
     "metadata": {},
     "output_type": "display_data"
    },
    {
     "name": "stdout",
     "output_type": "stream",
     "text": [
      "Episode 128: final score=240 total rewards=-70.0 mean loss = 0.8228\n"
     ]
    },
    {
     "data": {
      "application/vnd.jupyter.widget-view+json": {
       "model_id": "830d7278a8ce4a119c31db7c5fdc2858",
       "version_major": 2,
       "version_minor": 0
      },
      "text/plain": [
       "Frame: : 0it [00:00, ?it/s]"
      ]
     },
     "metadata": {},
     "output_type": "display_data"
    },
    {
     "name": "stdout",
     "output_type": "stream",
     "text": [
      "Episode 129: final score=240 total rewards=-75.0 mean loss = 0.9624\n"
     ]
    },
    {
     "data": {
      "application/vnd.jupyter.widget-view+json": {
       "model_id": "12c84920b4e64841afb62fee39fe2a7f",
       "version_major": 2,
       "version_minor": 0
      },
      "text/plain": [
       "Frame: : 0it [00:00, ?it/s]"
      ]
     },
     "metadata": {},
     "output_type": "display_data"
    },
    {
     "name": "stdout",
     "output_type": "stream",
     "text": [
      "Episode 130: final score=240 total rewards=-70.0 mean loss = 1.0442\n"
     ]
    },
    {
     "data": {
      "application/vnd.jupyter.widget-view+json": {
       "model_id": "a17f7cae7cdd44a9a7cc17bf14d888db",
       "version_major": 2,
       "version_minor": 0
      },
      "text/plain": [
       "Frame: : 0it [00:00, ?it/s]"
      ]
     },
     "metadata": {},
     "output_type": "display_data"
    },
    {
     "name": "stdout",
     "output_type": "stream",
     "text": [
      "Episode 131: final score=320 total rewards=-5.0 mean loss = 0.9648\n"
     ]
    },
    {
     "data": {
      "application/vnd.jupyter.widget-view+json": {
       "model_id": "482b73e81ae349459ea993653a22889c",
       "version_major": 2,
       "version_minor": 0
      },
      "text/plain": [
       "Frame: : 0it [00:00, ?it/s]"
      ]
     },
     "metadata": {},
     "output_type": "display_data"
    },
    {
     "name": "stdout",
     "output_type": "stream",
     "text": [
      "Episode 132: final score=670 total rewards=305.0 mean loss = 1.2620\n"
     ]
    },
    {
     "data": {
      "application/vnd.jupyter.widget-view+json": {
       "model_id": "926f5d8e35db4211a74d7c4df36bb1a3",
       "version_major": 2,
       "version_minor": 0
      },
      "text/plain": [
       "Frame: : 0it [00:00, ?it/s]"
      ]
     },
     "metadata": {},
     "output_type": "display_data"
    },
    {
     "name": "stdout",
     "output_type": "stream",
     "text": [
      "Episode 133: final score=240 total rewards=-505.0 mean loss = 1.5135\n"
     ]
    },
    {
     "data": {
      "application/vnd.jupyter.widget-view+json": {
       "model_id": "7654db924ea64b8d944aedd01e697756",
       "version_major": 2,
       "version_minor": 0
      },
      "text/plain": [
       "Frame: : 0it [00:00, ?it/s]"
      ]
     },
     "metadata": {},
     "output_type": "display_data"
    },
    {
     "name": "stdout",
     "output_type": "stream",
     "text": [
      "Episode 134: final score=1350 total rewards=1040.0 mean loss = 1.7532\n"
     ]
    },
    {
     "data": {
      "application/vnd.jupyter.widget-view+json": {
       "model_id": "abee174e4ebd4764bb9d93f1919c8f6a",
       "version_major": 2,
       "version_minor": 0
      },
      "text/plain": [
       "Frame: : 0it [00:00, ?it/s]"
      ]
     },
     "metadata": {},
     "output_type": "display_data"
    },
    {
     "name": "stdout",
     "output_type": "stream",
     "text": [
      "Episode 135: final score=160 total rewards=-1290.0 mean loss = 2.7308\n"
     ]
    },
    {
     "data": {
      "application/vnd.jupyter.widget-view+json": {
       "model_id": "89ec41ece1044a34a3a147567f824a84",
       "version_major": 2,
       "version_minor": 0
      },
      "text/plain": [
       "Frame: : 0it [00:00, ?it/s]"
      ]
     },
     "metadata": {},
     "output_type": "display_data"
    },
    {
     "name": "stdout",
     "output_type": "stream",
     "text": [
      "Episode 136: final score=160 total rewards=-100.0 mean loss = 2.7677\n"
     ]
    },
    {
     "data": {
      "application/vnd.jupyter.widget-view+json": {
       "model_id": "2a10d629f7bd4a919c6ccaf51e2658bb",
       "version_major": 2,
       "version_minor": 0
      },
      "text/plain": [
       "Frame: : 0it [00:00, ?it/s]"
      ]
     },
     "metadata": {},
     "output_type": "display_data"
    },
    {
     "name": "stdout",
     "output_type": "stream",
     "text": [
      "Episode 137: final score=160 total rewards=-100.0 mean loss = 1.0205\n"
     ]
    },
    {
     "data": {
      "application/vnd.jupyter.widget-view+json": {
       "model_id": "1a1091d461a74291b1e97fe3a9d040de",
       "version_major": 2,
       "version_minor": 0
      },
      "text/plain": [
       "Frame: : 0it [00:00, ?it/s]"
      ]
     },
     "metadata": {},
     "output_type": "display_data"
    },
    {
     "name": "stdout",
     "output_type": "stream",
     "text": [
      "Episode 138: final score=240 total rewards=0.0 mean loss = 0.9636\n"
     ]
    },
    {
     "data": {
      "application/vnd.jupyter.widget-view+json": {
       "model_id": "ef119c61a6cd4334afd1eda12b79f777",
       "version_major": 2,
       "version_minor": 0
      },
      "text/plain": [
       "Frame: : 0it [00:00, ?it/s]"
      ]
     },
     "metadata": {},
     "output_type": "display_data"
    },
    {
     "name": "stdout",
     "output_type": "stream",
     "text": [
      "Episode 139: final score=240 total rewards=-75.0 mean loss = 1.0066\n"
     ]
    },
    {
     "data": {
      "application/vnd.jupyter.widget-view+json": {
       "model_id": "05e59d251e0e4fb2942b2b117eddffff",
       "version_major": 2,
       "version_minor": 0
      },
      "text/plain": [
       "Frame: : 0it [00:00, ?it/s]"
      ]
     },
     "metadata": {},
     "output_type": "display_data"
    },
    {
     "name": "stdout",
     "output_type": "stream",
     "text": [
      "Episode 140: final score=350 total rewards=35.0 mean loss = 1.0625\n"
     ]
    },
    {
     "data": {
      "application/vnd.jupyter.widget-view+json": {
       "model_id": "c341d7d68f164fb1a1f757aef7df49c5",
       "version_major": 2,
       "version_minor": 0
      },
      "text/plain": [
       "Frame: : 0it [00:00, ?it/s]"
      ]
     },
     "metadata": {},
     "output_type": "display_data"
    },
    {
     "name": "stdout",
     "output_type": "stream",
     "text": [
      "Episode 141: final score=670 total rewards=265.0 mean loss = 1.2983\n"
     ]
    },
    {
     "data": {
      "application/vnd.jupyter.widget-view+json": {
       "model_id": "247cf2b9a47a4d36af3adfc40871ec39",
       "version_major": 2,
       "version_minor": 0
      },
      "text/plain": [
       "Frame: : 0it [00:00, ?it/s]"
      ]
     },
     "metadata": {},
     "output_type": "display_data"
    },
    {
     "name": "stdout",
     "output_type": "stream",
     "text": [
      "Episode 142: final score=240 total rewards=-515.0 mean loss = 1.6436\n"
     ]
    },
    {
     "data": {
      "application/vnd.jupyter.widget-view+json": {
       "model_id": "379b40495c284e1b9f5ab88f5ed57bae",
       "version_major": 2,
       "version_minor": 0
      },
      "text/plain": [
       "Frame: : 0it [00:00, ?it/s]"
      ]
     },
     "metadata": {},
     "output_type": "display_data"
    },
    {
     "name": "stdout",
     "output_type": "stream",
     "text": [
      "Episode 143: final score=240 total rewards=-70.0 mean loss = 1.3964\n"
     ]
    },
    {
     "data": {
      "application/vnd.jupyter.widget-view+json": {
       "model_id": "f7af7d17e8ba4a5fa51264fb2dff68ba",
       "version_major": 2,
       "version_minor": 0
      },
      "text/plain": [
       "Frame: : 0it [00:00, ?it/s]"
      ]
     },
     "metadata": {},
     "output_type": "display_data"
    },
    {
     "name": "stdout",
     "output_type": "stream",
     "text": [
      "Episode 144: final score=240 total rewards=-75.0 mean loss = 1.0630\n"
     ]
    },
    {
     "data": {
      "application/vnd.jupyter.widget-view+json": {
       "model_id": "41c68b6ece5c45b1a2183ad714c17e44",
       "version_major": 2,
       "version_minor": 0
      },
      "text/plain": [
       "Frame: : 0it [00:00, ?it/s]"
      ]
     },
     "metadata": {},
     "output_type": "display_data"
    },
    {
     "name": "stdout",
     "output_type": "stream",
     "text": [
      "Episode 145: final score=240 total rewards=-80.0 mean loss = 1.1429\n"
     ]
    },
    {
     "data": {
      "application/vnd.jupyter.widget-view+json": {
       "model_id": "431c6e6b62a04d85a817ab807015e231",
       "version_major": 2,
       "version_minor": 0
      },
      "text/plain": [
       "Frame: : 0it [00:00, ?it/s]"
      ]
     },
     "metadata": {},
     "output_type": "display_data"
    },
    {
     "name": "stdout",
     "output_type": "stream",
     "text": [
      "Episode 146: final score=240 total rewards=-80.0 mean loss = 0.9341\n"
     ]
    },
    {
     "data": {
      "application/vnd.jupyter.widget-view+json": {
       "model_id": "41b68850b41542d38b9ffbd295a9b24f",
       "version_major": 2,
       "version_minor": 0
      },
      "text/plain": [
       "Frame: : 0it [00:00, ?it/s]"
      ]
     },
     "metadata": {},
     "output_type": "display_data"
    },
    {
     "name": "stdout",
     "output_type": "stream",
     "text": [
      "Episode 147: final score=240 total rewards=-60.0 mean loss = 0.8304\n"
     ]
    },
    {
     "data": {
      "application/vnd.jupyter.widget-view+json": {
       "model_id": "379055f1501b460ca0ba9fb9742fe361",
       "version_major": 2,
       "version_minor": 0
      },
      "text/plain": [
       "Frame: : 0it [00:00, ?it/s]"
      ]
     },
     "metadata": {},
     "output_type": "display_data"
    },
    {
     "name": "stdout",
     "output_type": "stream",
     "text": [
      "Episode 148: final score=240 total rewards=-75.0 mean loss = 0.7992\n"
     ]
    },
    {
     "data": {
      "application/vnd.jupyter.widget-view+json": {
       "model_id": "d097b535d5744a67b4ee84af05108f88",
       "version_major": 2,
       "version_minor": 0
      },
      "text/plain": [
       "Frame: : 0it [00:00, ?it/s]"
      ]
     },
     "metadata": {},
     "output_type": "display_data"
    },
    {
     "name": "stdout",
     "output_type": "stream",
     "text": [
      "Episode 149: final score=670 total rewards=380.0 mean loss = 1.1028\n"
     ]
    },
    {
     "data": {
      "application/vnd.jupyter.widget-view+json": {
       "model_id": "e0f5400a91f440f6aa193942cf072491",
       "version_major": 2,
       "version_minor": 0
      },
      "text/plain": [
       "Frame: : 0it [00:00, ?it/s]"
      ]
     },
     "metadata": {},
     "output_type": "display_data"
    },
    {
     "name": "stdout",
     "output_type": "stream",
     "text": [
      "Episode 150: final score=240 total rewards=-500.0 mean loss = 1.5126\n"
     ]
    },
    {
     "data": {
      "application/vnd.jupyter.widget-view+json": {
       "model_id": "2da2581355ec410ab08471a1afac842d",
       "version_major": 2,
       "version_minor": 0
      },
      "text/plain": [
       "Frame: : 0it [00:00, ?it/s]"
      ]
     },
     "metadata": {},
     "output_type": "display_data"
    },
    {
     "name": "stdout",
     "output_type": "stream",
     "text": [
      "Episode 151: final score=160 total rewards=-170.0 mean loss = 1.4432\n"
     ]
    },
    {
     "data": {
      "application/vnd.jupyter.widget-view+json": {
       "model_id": "48f2df6077604ff9b9dce2864889f12b",
       "version_major": 2,
       "version_minor": 0
      },
      "text/plain": [
       "Frame: : 0it [00:00, ?it/s]"
      ]
     },
     "metadata": {},
     "output_type": "display_data"
    },
    {
     "name": "stdout",
     "output_type": "stream",
     "text": [
      "Episode 152: final score=160 total rewards=-100.0 mean loss = 1.0257\n"
     ]
    },
    {
     "data": {
      "application/vnd.jupyter.widget-view+json": {
       "model_id": "bbf059205dc74fcd9fb0f95cb9bb72f0",
       "version_major": 2,
       "version_minor": 0
      },
      "text/plain": [
       "Frame: : 0it [00:00, ?it/s]"
      ]
     },
     "metadata": {},
     "output_type": "display_data"
    },
    {
     "name": "stdout",
     "output_type": "stream",
     "text": [
      "Episode 153: final score=670 total rewards=470.0 mean loss = 0.9551\n"
     ]
    },
    {
     "data": {
      "application/vnd.jupyter.widget-view+json": {
       "model_id": "720eefcd85434095b05bc2bf62df6e90",
       "version_major": 2,
       "version_minor": 0
      },
      "text/plain": [
       "Frame: : 0it [00:00, ?it/s]"
      ]
     },
     "metadata": {},
     "output_type": "display_data"
    },
    {
     "name": "stdout",
     "output_type": "stream",
     "text": [
      "Episode 154: final score=240 total rewards=-500.0 mean loss = 1.7211\n"
     ]
    },
    {
     "data": {
      "application/vnd.jupyter.widget-view+json": {
       "model_id": "19d8f7baeff84623973cf633c95f5ed0",
       "version_major": 2,
       "version_minor": 0
      },
      "text/plain": [
       "Frame: : 0it [00:00, ?it/s]"
      ]
     },
     "metadata": {},
     "output_type": "display_data"
    },
    {
     "name": "stdout",
     "output_type": "stream",
     "text": [
      "Episode 155: final score=240 total rewards=-75.0 mean loss = 1.4482\n"
     ]
    },
    {
     "data": {
      "application/vnd.jupyter.widget-view+json": {
       "model_id": "5b00b009a68349dc9cff390693d5d25c",
       "version_major": 2,
       "version_minor": 0
      },
      "text/plain": [
       "Frame: : 0it [00:00, ?it/s]"
      ]
     },
     "metadata": {},
     "output_type": "display_data"
    },
    {
     "name": "stdout",
     "output_type": "stream",
     "text": [
      "Episode 156: final score=240 total rewards=-80.0 mean loss = 0.8945\n"
     ]
    },
    {
     "data": {
      "application/vnd.jupyter.widget-view+json": {
       "model_id": "8e7de3858cf94268a85a2050ec0c430c",
       "version_major": 2,
       "version_minor": 0
      },
      "text/plain": [
       "Frame: : 0it [00:00, ?it/s]"
      ]
     },
     "metadata": {},
     "output_type": "display_data"
    },
    {
     "name": "stderr",
     "output_type": "stream",
     "text": [
      "Exception ignored in: <function tqdm.__del__ at 0x7f15377ceb60>\n",
      "Traceback (most recent call last):\n",
      "  File \"/home/nox/repos/arkanoid-gym/venv/lib/python3.11/site-packages/tqdm/std.py\", line 1144, in __del__\n",
      "    def __del__(self):\n",
      "\n",
      "KeyboardInterrupt: \n"
     ]
    },
    {
     "ename": "KeyboardInterrupt",
     "evalue": "",
     "output_type": "error",
     "traceback": [
      "\u001b[0;31m---------------------------------------------------------------------------\u001b[0m",
      "\u001b[0;31mKeyboardInterrupt\u001b[0m                         Traceback (most recent call last)",
      "Cell \u001b[0;32mIn[3], line 12\u001b[0m\n\u001b[1;32m     10\u001b[0m \u001b[38;5;28;01mfor\u001b[39;00m frame \u001b[38;5;129;01min\u001b[39;00m tqdm(c, desc\u001b[38;5;241m=\u001b[39m\u001b[38;5;124m\"\u001b[39m\u001b[38;5;124mFrame: \u001b[39m\u001b[38;5;124m\"\u001b[39m, position\u001b[38;5;241m=\u001b[39m\u001b[38;5;241m1\u001b[39m):\n\u001b[1;32m     11\u001b[0m     action \u001b[38;5;241m=\u001b[39m agent\u001b[38;5;241m.\u001b[39mget_action(screen, info)\n\u001b[0;32m---> 12\u001b[0m     next_screen, reward, done, next_info \u001b[38;5;241m=\u001b[39m \u001b[43menv\u001b[49m\u001b[38;5;241;43m.\u001b[39;49m\u001b[43mstep\u001b[49m\u001b[43m(\u001b[49m\u001b[43maction\u001b[49m\u001b[43m)\u001b[49m\n\u001b[1;32m     14\u001b[0m     next_screen \u001b[38;5;241m=\u001b[39m torch\u001b[38;5;241m.\u001b[39mtensor(\n\u001b[1;32m     15\u001b[0m         rgb2gray(env\u001b[38;5;241m.\u001b[39mcrop_screen(next_screen)),\n\u001b[1;32m     16\u001b[0m         dtype\u001b[38;5;241m=\u001b[39mtorch\u001b[38;5;241m.\u001b[39mfloat32,\n\u001b[1;32m     17\u001b[0m         device\u001b[38;5;241m=\u001b[39magent\u001b[38;5;241m.\u001b[39mdevice,\n\u001b[1;32m     18\u001b[0m     )\u001b[38;5;241m.\u001b[39munsqueeze(\u001b[38;5;241m0\u001b[39m)\n\u001b[1;32m     19\u001b[0m     next_info \u001b[38;5;241m=\u001b[39m torch\u001b[38;5;241m.\u001b[39mtensor(env\u001b[38;5;241m.\u001b[39minfo_to_array(next_info), device\u001b[38;5;241m=\u001b[39magent\u001b[38;5;241m.\u001b[39mdevice)\n",
      "File \u001b[0;32m~/repos/arkanoid-gym/venv/lib64/python3.11/site-packages/nes_py/wrappers/joypad_space.py:74\u001b[0m, in \u001b[0;36mJoypadSpace.step\u001b[0;34m(self, action)\u001b[0m\n\u001b[1;32m     59\u001b[0m \u001b[38;5;250m\u001b[39m\u001b[38;5;124;03m\"\"\"\u001b[39;00m\n\u001b[1;32m     60\u001b[0m \u001b[38;5;124;03mTake a step using the given action.\u001b[39;00m\n\u001b[1;32m     61\u001b[0m \n\u001b[0;32m   (...)\u001b[0m\n\u001b[1;32m     71\u001b[0m \n\u001b[1;32m     72\u001b[0m \u001b[38;5;124;03m\"\"\"\u001b[39;00m\n\u001b[1;32m     73\u001b[0m \u001b[38;5;66;03m# take the step and record the output\u001b[39;00m\n\u001b[0;32m---> 74\u001b[0m \u001b[38;5;28;01mreturn\u001b[39;00m \u001b[38;5;28;43mself\u001b[39;49m\u001b[38;5;241;43m.\u001b[39;49m\u001b[43menv\u001b[49m\u001b[38;5;241;43m.\u001b[39;49m\u001b[43mstep\u001b[49m\u001b[43m(\u001b[49m\u001b[38;5;28;43mself\u001b[39;49m\u001b[38;5;241;43m.\u001b[39;49m\u001b[43m_action_map\u001b[49m\u001b[43m[\u001b[49m\u001b[43maction\u001b[49m\u001b[43m]\u001b[49m\u001b[43m)\u001b[49m\n",
      "File \u001b[0;32m~/repos/arkanoid-gym/venv/lib64/python3.11/site-packages/nes_py/nes_env.py:302\u001b[0m, in \u001b[0;36mNESEnv.step\u001b[0;34m(self, action)\u001b[0m\n\u001b[1;32m    300\u001b[0m _LIB\u001b[38;5;241m.\u001b[39mStep(\u001b[38;5;28mself\u001b[39m\u001b[38;5;241m.\u001b[39m_env)\n\u001b[1;32m    301\u001b[0m \u001b[38;5;66;03m# get the reward for this step\u001b[39;00m\n\u001b[0;32m--> 302\u001b[0m reward \u001b[38;5;241m=\u001b[39m \u001b[38;5;28mfloat\u001b[39m(\u001b[38;5;28mself\u001b[39m\u001b[38;5;241m.\u001b[39m_get_reward())\n\u001b[1;32m    303\u001b[0m \u001b[38;5;66;03m# get the done flag for this step\u001b[39;00m\n\u001b[1;32m    304\u001b[0m \u001b[38;5;28mself\u001b[39m\u001b[38;5;241m.\u001b[39mdone \u001b[38;5;241m=\u001b[39m \u001b[38;5;28mbool\u001b[39m(\u001b[38;5;28mself\u001b[39m\u001b[38;5;241m.\u001b[39m_get_done())\n",
      "\u001b[0;31mKeyboardInterrupt\u001b[0m: "
     ]
    }
   ],
   "source": [
    "for episode in tqdm(range(1, episodes + 1), desc=\"Episode: \", position=0):\n",
    "    screen, info = env.reset()\n",
    "    episode_score = 0\n",
    "\n",
    "    screen = torch.tensor(\n",
    "        rgb2gray(env.crop_screen(screen)), dtype=torch.float32, device=agent.device,\n",
    "    ).unsqueeze(0)\n",
    "    info = torch.tensor(env.info_to_array(info), device=agent.device)\n",
    "\n",
    "    for frame in tqdm(c, desc=\"Frame: \", position=1):\n",
    "        action = agent.get_action(screen, info)\n",
    "        next_screen, reward, done, next_info = env.step(action)\n",
    "\n",
    "        next_screen = torch.tensor(\n",
    "            rgb2gray(env.crop_screen(next_screen)),\n",
    "            dtype=torch.float32,\n",
    "            device=agent.device,\n",
    "        ).unsqueeze(0)\n",
    "        next_info = torch.tensor(env.info_to_array(next_info), device=agent.device)\n",
    "\n",
    "        episode_score += reward\n",
    "        agent.update(screen, info, action, reward, done, next_screen, next_info)\n",
    "\n",
    "        screen = next_screen\n",
    "        info = next_info\n",
    "\n",
    "        if save_every is not None and frame % save_every == 0:\n",
    "            checkpoint_dir_ = checkpoint_dir / f\"{frame}\"\n",
    "            checkpoint_dir_.mkdir(exist_ok=True)\n",
    "            torch.save(\n",
    "                agent.policy_net.state_dict(), checkpoint_dir_ / \"policy_net.pth\",\n",
    "            )\n",
    "            torch.save(\n",
    "                agent.policy_net.state_dict(), latest_dir / \"policy_net.pth\",\n",
    "            )\n",
    "\n",
    "        if done:\n",
    "            losses = agent.loss[env.episode]\n",
    "            agent.scores[env.episode] = episode_score\n",
    "            print(\n",
    "                f\"Episode {episode}: final score={env.game['score']} total rewards={episode_score} mean loss = {torch.mean(torch.tensor(losses)):.4f}\",\n",
    "                flush=True,\n",
    "            )\n",
    "            break"
   ]
  },
  {
   "cell_type": "code",
   "execution_count": null,
   "id": "016747f3-947f-4380-9bcb-90b350279962",
   "metadata": {},
   "outputs": [],
   "source": [
    "torch.save(agent.policy_net.state_dict(), checkpoint_dir / \"policy_net.pth\")\n",
    "torch.save(agent.policy_net.state_dict(), latest_dir / \"policy_net.pth\")"
   ]
  },
  {
   "cell_type": "code",
   "execution_count": null,
   "id": "0d8e3336-be29-4eed-9ffe-be4398fa2d11",
   "metadata": {},
   "outputs": [],
   "source": [
    "episode_durations = agent.durations\n",
    "sns.scatterplot(x=episode_durations.keys(), y=episode_durations.values(), s=10)\n",
    "plt.title(\"Duration per episode\")\n",
    "plt.ylabel(\"Frames\")\n",
    "plt.xlabel(\"Episode\")\n",
    "plt.show()"
   ]
  },
  {
   "cell_type": "code",
   "execution_count": null,
   "id": "61d0f96c-2a17-4d3e-98bc-d1ae2fcd17ac",
   "metadata": {},
   "outputs": [],
   "source": [
    "episodes_scores = agent.scores\n",
    "sns.scatterplot(\n",
    "    x=np.arange(1, len(episodes_scores) + 1), y=list(episodes_scores.values()), s=10\n",
    ")\n",
    "plt.title(\"Score per episode\")\n",
    "plt.ylabel(\"score\")\n",
    "plt.xlabel(\"Episode\")\n",
    "plt.show()"
   ]
  },
  {
   "cell_type": "code",
   "execution_count": null,
   "id": "5fdbc054-b31a-4ad4-a20a-002230b1a5fd",
   "metadata": {},
   "outputs": [],
   "source": [
    "df = pd.DataFrame(agent.actions).T\n",
    "df.rename(columns=lambda x: ACTIONS[x][0], inplace=True)\n",
    "df = df.div(df.sum(axis=1), axis=0)"
   ]
  },
  {
   "cell_type": "code",
   "execution_count": null,
   "id": "829ed5f3-1e25-4f19-bf0c-aa9bb5aa9cd4",
   "metadata": {},
   "outputs": [],
   "source": [
    "sns.barplot(\n",
    "    data=df.melt(ignore_index=False, value_name=\"prop\", var_name=\"action\")\n",
    "    .reset_index()\n",
    "    .rename(columns={\"index\": \"episode\"}),\n",
    "    x=\"episode\",\n",
    "    y=\"prop\",\n",
    "    hue=\"action\",\n",
    ")"
   ]
  },
  {
   "cell_type": "code",
   "execution_count": null,
   "id": "5f30e97c-5deb-4301-9530-123abd3e0a33",
   "metadata": {},
   "outputs": [],
   "source": []
  },
  {
   "cell_type": "code",
   "execution_count": null,
   "id": "6eb4f518-7b40-44b4-b4f2-51756d9e373f",
   "metadata": {},
   "outputs": [],
   "source": []
  }
 ],
 "metadata": {
  "kernelspec": {
   "display_name": "Python 3 (ipykernel)",
   "language": "python",
   "name": "python3"
  },
  "language_info": {
   "codemirror_mode": {
    "name": "ipython",
    "version": 3
   },
   "file_extension": ".py",
   "mimetype": "text/x-python",
   "name": "python",
   "nbconvert_exporter": "python",
   "pygments_lexer": "ipython3",
   "version": "3.8.16"
  },
  "widgets": {
   "application/vnd.jupyter.widget-state+json": {
    "state": {},
    "version_major": 2,
    "version_minor": 0
   }
  }
 },
 "nbformat": 4,
 "nbformat_minor": 5
}
